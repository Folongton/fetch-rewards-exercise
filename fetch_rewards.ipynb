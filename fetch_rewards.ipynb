{
 "cells": [
  {
   "cell_type": "code",
   "execution_count": 1,
   "id": "powerful-cycle",
   "metadata": {},
   "outputs": [],
   "source": [
    "import numpy as np\n",
    "import pandas as pd\n",
    "pd.set_option(\"display.max_columns\", None)\n",
    "import gzip\n",
    "import json\n",
    "import sqlalchemy\n",
    "import datetime\n",
    "import math"
   ]
  },
  {
   "cell_type": "markdown",
   "id": "9bbb3a89",
   "metadata": {},
   "source": [
    "## Formatting Receipts.json.gz"
   ]
  },
  {
   "cell_type": "code",
   "execution_count": 2,
   "id": "floppy-basics",
   "metadata": {},
   "outputs": [
    {
     "data": {
      "text/html": [
       "<div>\n",
       "<style scoped>\n",
       "    .dataframe tbody tr th:only-of-type {\n",
       "        vertical-align: middle;\n",
       "    }\n",
       "\n",
       "    .dataframe tbody tr th {\n",
       "        vertical-align: top;\n",
       "    }\n",
       "\n",
       "    .dataframe thead th {\n",
       "        text-align: right;\n",
       "    }\n",
       "</style>\n",
       "<table border=\"1\" class=\"dataframe\">\n",
       "  <thead>\n",
       "    <tr style=\"text-align: right;\">\n",
       "      <th></th>\n",
       "      <th>_id</th>\n",
       "      <th>bonusPointsEarned</th>\n",
       "      <th>bonusPointsEarnedReason</th>\n",
       "      <th>createDate</th>\n",
       "      <th>dateScanned</th>\n",
       "      <th>finishedDate</th>\n",
       "      <th>modifyDate</th>\n",
       "      <th>pointsAwardedDate</th>\n",
       "      <th>pointsEarned</th>\n",
       "      <th>purchaseDate</th>\n",
       "      <th>purchasedItemCount</th>\n",
       "      <th>rewardsReceiptItemList</th>\n",
       "      <th>rewardsReceiptStatus</th>\n",
       "      <th>totalSpent</th>\n",
       "      <th>userId</th>\n",
       "    </tr>\n",
       "  </thead>\n",
       "  <tbody>\n",
       "    <tr>\n",
       "      <th>0</th>\n",
       "      <td>{'$oid': '5ff1e1eb0a720f0523000575'}</td>\n",
       "      <td>500.0</td>\n",
       "      <td>Receipt number 2 completed, bonus point schedu...</td>\n",
       "      <td>{'$date': 1609687531000}</td>\n",
       "      <td>{'$date': 1609687531000}</td>\n",
       "      <td>{'$date': 1609687531000}</td>\n",
       "      <td>{'$date': 1609687536000}</td>\n",
       "      <td>{'$date': 1609687531000}</td>\n",
       "      <td>500.0</td>\n",
       "      <td>{'$date': 1609632000000}</td>\n",
       "      <td>5.0</td>\n",
       "      <td>[{'barcode': '4011', 'description': 'ITEM NOT ...</td>\n",
       "      <td>FINISHED</td>\n",
       "      <td>26.00</td>\n",
       "      <td>5ff1e1eacfcf6c399c274ae6</td>\n",
       "    </tr>\n",
       "    <tr>\n",
       "      <th>1</th>\n",
       "      <td>{'$oid': '5ff1e1bb0a720f052300056b'}</td>\n",
       "      <td>150.0</td>\n",
       "      <td>Receipt number 5 completed, bonus point schedu...</td>\n",
       "      <td>{'$date': 1609687483000}</td>\n",
       "      <td>{'$date': 1609687483000}</td>\n",
       "      <td>{'$date': 1609687483000}</td>\n",
       "      <td>{'$date': 1609687488000}</td>\n",
       "      <td>{'$date': 1609687483000}</td>\n",
       "      <td>150.0</td>\n",
       "      <td>{'$date': 1609601083000}</td>\n",
       "      <td>2.0</td>\n",
       "      <td>[{'barcode': '4011', 'description': 'ITEM NOT ...</td>\n",
       "      <td>FINISHED</td>\n",
       "      <td>11.00</td>\n",
       "      <td>5ff1e194b6a9d73a3a9f1052</td>\n",
       "    </tr>\n",
       "    <tr>\n",
       "      <th>2</th>\n",
       "      <td>{'$oid': '5ff1e1f10a720f052300057a'}</td>\n",
       "      <td>5.0</td>\n",
       "      <td>All-receipts receipt bonus</td>\n",
       "      <td>{'$date': 1609687537000}</td>\n",
       "      <td>{'$date': 1609687537000}</td>\n",
       "      <td>NaN</td>\n",
       "      <td>{'$date': 1609687542000}</td>\n",
       "      <td>NaN</td>\n",
       "      <td>5</td>\n",
       "      <td>{'$date': 1609632000000}</td>\n",
       "      <td>1.0</td>\n",
       "      <td>[{'needsFetchReview': False, 'partnerItemId': ...</td>\n",
       "      <td>REJECTED</td>\n",
       "      <td>10.00</td>\n",
       "      <td>5ff1e1f1cfcf6c399c274b0b</td>\n",
       "    </tr>\n",
       "    <tr>\n",
       "      <th>3</th>\n",
       "      <td>{'$oid': '5ff1e1ee0a7214ada100056f'}</td>\n",
       "      <td>5.0</td>\n",
       "      <td>All-receipts receipt bonus</td>\n",
       "      <td>{'$date': 1609687534000}</td>\n",
       "      <td>{'$date': 1609687534000}</td>\n",
       "      <td>{'$date': 1609687534000}</td>\n",
       "      <td>{'$date': 1609687539000}</td>\n",
       "      <td>{'$date': 1609687534000}</td>\n",
       "      <td>5.0</td>\n",
       "      <td>{'$date': 1609632000000}</td>\n",
       "      <td>4.0</td>\n",
       "      <td>[{'barcode': '4011', 'description': 'ITEM NOT ...</td>\n",
       "      <td>FINISHED</td>\n",
       "      <td>28.00</td>\n",
       "      <td>5ff1e1eacfcf6c399c274ae6</td>\n",
       "    </tr>\n",
       "    <tr>\n",
       "      <th>4</th>\n",
       "      <td>{'$oid': '5ff1e1d20a7214ada1000561'}</td>\n",
       "      <td>5.0</td>\n",
       "      <td>All-receipts receipt bonus</td>\n",
       "      <td>{'$date': 1609687506000}</td>\n",
       "      <td>{'$date': 1609687506000}</td>\n",
       "      <td>{'$date': 1609687511000}</td>\n",
       "      <td>{'$date': 1609687511000}</td>\n",
       "      <td>{'$date': 1609687506000}</td>\n",
       "      <td>5.0</td>\n",
       "      <td>{'$date': 1609601106000}</td>\n",
       "      <td>2.0</td>\n",
       "      <td>[{'barcode': '4011', 'description': 'ITEM NOT ...</td>\n",
       "      <td>FINISHED</td>\n",
       "      <td>1.00</td>\n",
       "      <td>5ff1e194b6a9d73a3a9f1052</td>\n",
       "    </tr>\n",
       "  </tbody>\n",
       "</table>\n",
       "</div>"
      ],
      "text/plain": [
       "                                    _id  bonusPointsEarned  \\\n",
       "0  {'$oid': '5ff1e1eb0a720f0523000575'}              500.0   \n",
       "1  {'$oid': '5ff1e1bb0a720f052300056b'}              150.0   \n",
       "2  {'$oid': '5ff1e1f10a720f052300057a'}                5.0   \n",
       "3  {'$oid': '5ff1e1ee0a7214ada100056f'}                5.0   \n",
       "4  {'$oid': '5ff1e1d20a7214ada1000561'}                5.0   \n",
       "\n",
       "                             bonusPointsEarnedReason  \\\n",
       "0  Receipt number 2 completed, bonus point schedu...   \n",
       "1  Receipt number 5 completed, bonus point schedu...   \n",
       "2                         All-receipts receipt bonus   \n",
       "3                         All-receipts receipt bonus   \n",
       "4                         All-receipts receipt bonus   \n",
       "\n",
       "                 createDate               dateScanned  \\\n",
       "0  {'$date': 1609687531000}  {'$date': 1609687531000}   \n",
       "1  {'$date': 1609687483000}  {'$date': 1609687483000}   \n",
       "2  {'$date': 1609687537000}  {'$date': 1609687537000}   \n",
       "3  {'$date': 1609687534000}  {'$date': 1609687534000}   \n",
       "4  {'$date': 1609687506000}  {'$date': 1609687506000}   \n",
       "\n",
       "               finishedDate                modifyDate  \\\n",
       "0  {'$date': 1609687531000}  {'$date': 1609687536000}   \n",
       "1  {'$date': 1609687483000}  {'$date': 1609687488000}   \n",
       "2                       NaN  {'$date': 1609687542000}   \n",
       "3  {'$date': 1609687534000}  {'$date': 1609687539000}   \n",
       "4  {'$date': 1609687511000}  {'$date': 1609687511000}   \n",
       "\n",
       "          pointsAwardedDate pointsEarned              purchaseDate  \\\n",
       "0  {'$date': 1609687531000}        500.0  {'$date': 1609632000000}   \n",
       "1  {'$date': 1609687483000}        150.0  {'$date': 1609601083000}   \n",
       "2                       NaN            5  {'$date': 1609632000000}   \n",
       "3  {'$date': 1609687534000}          5.0  {'$date': 1609632000000}   \n",
       "4  {'$date': 1609687506000}          5.0  {'$date': 1609601106000}   \n",
       "\n",
       "   purchasedItemCount                             rewardsReceiptItemList  \\\n",
       "0                 5.0  [{'barcode': '4011', 'description': 'ITEM NOT ...   \n",
       "1                 2.0  [{'barcode': '4011', 'description': 'ITEM NOT ...   \n",
       "2                 1.0  [{'needsFetchReview': False, 'partnerItemId': ...   \n",
       "3                 4.0  [{'barcode': '4011', 'description': 'ITEM NOT ...   \n",
       "4                 2.0  [{'barcode': '4011', 'description': 'ITEM NOT ...   \n",
       "\n",
       "  rewardsReceiptStatus totalSpent                    userId  \n",
       "0             FINISHED      26.00  5ff1e1eacfcf6c399c274ae6  \n",
       "1             FINISHED      11.00  5ff1e194b6a9d73a3a9f1052  \n",
       "2             REJECTED      10.00  5ff1e1f1cfcf6c399c274b0b  \n",
       "3             FINISHED      28.00  5ff1e1eacfcf6c399c274ae6  \n",
       "4             FINISHED       1.00  5ff1e194b6a9d73a3a9f1052  "
      ]
     },
     "execution_count": 2,
     "metadata": {},
     "output_type": "execute_result"
    }
   ],
   "source": [
    "rec_data = [json.loads(line) for line in gzip.open(\"receipts.json.gz\", \"r\")]\n",
    "rec_df = pd.DataFrame(rec_data)\n",
    "rec_df.head()"
   ]
  },
  {
   "cell_type": "markdown",
   "id": "natural-marks",
   "metadata": {},
   "source": [
    "#### Some of the receipts have no items on them, as shown below. We have to drop the empty receipts."
   ]
  },
  {
   "cell_type": "code",
   "execution_count": 3,
   "id": "complete-promotion",
   "metadata": {},
   "outputs": [
    {
     "data": {
      "text/plain": [
       "_id                        {'$oid': '5ff475820a7214ada10005cf'}\n",
       "bonusPointsEarned                                           NaN\n",
       "bonusPointsEarnedReason                                     NaN\n",
       "createDate                             {'$date': 1609856386000}\n",
       "dateScanned                            {'$date': 1609856386000}\n",
       "finishedDate                                                NaN\n",
       "modifyDate                             {'$date': 1609856386000}\n",
       "pointsAwardedDate                                           NaN\n",
       "pointsEarned                                                NaN\n",
       "purchaseDate                                                NaN\n",
       "purchasedItemCount                                          NaN\n",
       "rewardsReceiptItemList                                      NaN\n",
       "rewardsReceiptStatus                                  SUBMITTED\n",
       "totalSpent                                                  NaN\n",
       "userId                                 5a43c08fe4b014fd6b6a0612\n",
       "Name: 71, dtype: object"
      ]
     },
     "execution_count": 3,
     "metadata": {},
     "output_type": "execute_result"
    }
   ],
   "source": [
    "rec_df.iloc[71]"
   ]
  },
  {
   "cell_type": "markdown",
   "id": "rental-sellers",
   "metadata": {},
   "source": [
    "#### We are dropping empty receipts and then reformating IDs"
   ]
  },
  {
   "cell_type": "code",
   "execution_count": 4,
   "id": "humanitarian-vegetation",
   "metadata": {},
   "outputs": [
    {
     "data": {
      "text/html": [
       "<div>\n",
       "<style scoped>\n",
       "    .dataframe tbody tr th:only-of-type {\n",
       "        vertical-align: middle;\n",
       "    }\n",
       "\n",
       "    .dataframe tbody tr th {\n",
       "        vertical-align: top;\n",
       "    }\n",
       "\n",
       "    .dataframe thead th {\n",
       "        text-align: right;\n",
       "    }\n",
       "</style>\n",
       "<table border=\"1\" class=\"dataframe\">\n",
       "  <thead>\n",
       "    <tr style=\"text-align: right;\">\n",
       "      <th></th>\n",
       "      <th>bonusPointsEarned</th>\n",
       "      <th>bonusPointsEarnedReason</th>\n",
       "      <th>createDate</th>\n",
       "      <th>dateScanned</th>\n",
       "      <th>finishedDate</th>\n",
       "      <th>modifyDate</th>\n",
       "      <th>pointsAwardedDate</th>\n",
       "      <th>pointsEarned</th>\n",
       "      <th>purchaseDate</th>\n",
       "      <th>purchasedItemCount</th>\n",
       "      <th>rewardsReceiptStatus</th>\n",
       "      <th>totalSpent</th>\n",
       "      <th>userId</th>\n",
       "      <th>receipt_id</th>\n",
       "    </tr>\n",
       "  </thead>\n",
       "  <tbody>\n",
       "    <tr>\n",
       "      <th>0</th>\n",
       "      <td>500.0</td>\n",
       "      <td>Receipt number 2 completed, bonus point schedu...</td>\n",
       "      <td>{'$date': 1609687531000}</td>\n",
       "      <td>{'$date': 1609687531000}</td>\n",
       "      <td>{'$date': 1609687531000}</td>\n",
       "      <td>{'$date': 1609687536000}</td>\n",
       "      <td>{'$date': 1609687531000}</td>\n",
       "      <td>500.0</td>\n",
       "      <td>{'$date': 1609632000000}</td>\n",
       "      <td>5.0</td>\n",
       "      <td>FINISHED</td>\n",
       "      <td>26.00</td>\n",
       "      <td>5ff1e1eacfcf6c399c274ae6</td>\n",
       "      <td>5ff1e1eb0a720f0523000575</td>\n",
       "    </tr>\n",
       "    <tr>\n",
       "      <th>1</th>\n",
       "      <td>150.0</td>\n",
       "      <td>Receipt number 5 completed, bonus point schedu...</td>\n",
       "      <td>{'$date': 1609687483000}</td>\n",
       "      <td>{'$date': 1609687483000}</td>\n",
       "      <td>{'$date': 1609687483000}</td>\n",
       "      <td>{'$date': 1609687488000}</td>\n",
       "      <td>{'$date': 1609687483000}</td>\n",
       "      <td>150.0</td>\n",
       "      <td>{'$date': 1609601083000}</td>\n",
       "      <td>2.0</td>\n",
       "      <td>FINISHED</td>\n",
       "      <td>11.00</td>\n",
       "      <td>5ff1e194b6a9d73a3a9f1052</td>\n",
       "      <td>5ff1e1bb0a720f052300056b</td>\n",
       "    </tr>\n",
       "    <tr>\n",
       "      <th>2</th>\n",
       "      <td>5.0</td>\n",
       "      <td>All-receipts receipt bonus</td>\n",
       "      <td>{'$date': 1609687537000}</td>\n",
       "      <td>{'$date': 1609687537000}</td>\n",
       "      <td>NaN</td>\n",
       "      <td>{'$date': 1609687542000}</td>\n",
       "      <td>NaN</td>\n",
       "      <td>5</td>\n",
       "      <td>{'$date': 1609632000000}</td>\n",
       "      <td>1.0</td>\n",
       "      <td>REJECTED</td>\n",
       "      <td>10.00</td>\n",
       "      <td>5ff1e1f1cfcf6c399c274b0b</td>\n",
       "      <td>5ff1e1f10a720f052300057a</td>\n",
       "    </tr>\n",
       "    <tr>\n",
       "      <th>3</th>\n",
       "      <td>5.0</td>\n",
       "      <td>All-receipts receipt bonus</td>\n",
       "      <td>{'$date': 1609687534000}</td>\n",
       "      <td>{'$date': 1609687534000}</td>\n",
       "      <td>{'$date': 1609687534000}</td>\n",
       "      <td>{'$date': 1609687539000}</td>\n",
       "      <td>{'$date': 1609687534000}</td>\n",
       "      <td>5.0</td>\n",
       "      <td>{'$date': 1609632000000}</td>\n",
       "      <td>4.0</td>\n",
       "      <td>FINISHED</td>\n",
       "      <td>28.00</td>\n",
       "      <td>5ff1e1eacfcf6c399c274ae6</td>\n",
       "      <td>5ff1e1ee0a7214ada100056f</td>\n",
       "    </tr>\n",
       "    <tr>\n",
       "      <th>4</th>\n",
       "      <td>5.0</td>\n",
       "      <td>All-receipts receipt bonus</td>\n",
       "      <td>{'$date': 1609687506000}</td>\n",
       "      <td>{'$date': 1609687506000}</td>\n",
       "      <td>{'$date': 1609687511000}</td>\n",
       "      <td>{'$date': 1609687511000}</td>\n",
       "      <td>{'$date': 1609687506000}</td>\n",
       "      <td>5.0</td>\n",
       "      <td>{'$date': 1609601106000}</td>\n",
       "      <td>2.0</td>\n",
       "      <td>FINISHED</td>\n",
       "      <td>1.00</td>\n",
       "      <td>5ff1e194b6a9d73a3a9f1052</td>\n",
       "      <td>5ff1e1d20a7214ada1000561</td>\n",
       "    </tr>\n",
       "  </tbody>\n",
       "</table>\n",
       "</div>"
      ],
      "text/plain": [
       "   bonusPointsEarned                            bonusPointsEarnedReason  \\\n",
       "0              500.0  Receipt number 2 completed, bonus point schedu...   \n",
       "1              150.0  Receipt number 5 completed, bonus point schedu...   \n",
       "2                5.0                         All-receipts receipt bonus   \n",
       "3                5.0                         All-receipts receipt bonus   \n",
       "4                5.0                         All-receipts receipt bonus   \n",
       "\n",
       "                 createDate               dateScanned  \\\n",
       "0  {'$date': 1609687531000}  {'$date': 1609687531000}   \n",
       "1  {'$date': 1609687483000}  {'$date': 1609687483000}   \n",
       "2  {'$date': 1609687537000}  {'$date': 1609687537000}   \n",
       "3  {'$date': 1609687534000}  {'$date': 1609687534000}   \n",
       "4  {'$date': 1609687506000}  {'$date': 1609687506000}   \n",
       "\n",
       "               finishedDate                modifyDate  \\\n",
       "0  {'$date': 1609687531000}  {'$date': 1609687536000}   \n",
       "1  {'$date': 1609687483000}  {'$date': 1609687488000}   \n",
       "2                       NaN  {'$date': 1609687542000}   \n",
       "3  {'$date': 1609687534000}  {'$date': 1609687539000}   \n",
       "4  {'$date': 1609687511000}  {'$date': 1609687511000}   \n",
       "\n",
       "          pointsAwardedDate pointsEarned              purchaseDate  \\\n",
       "0  {'$date': 1609687531000}        500.0  {'$date': 1609632000000}   \n",
       "1  {'$date': 1609687483000}        150.0  {'$date': 1609601083000}   \n",
       "2                       NaN            5  {'$date': 1609632000000}   \n",
       "3  {'$date': 1609687534000}          5.0  {'$date': 1609632000000}   \n",
       "4  {'$date': 1609687506000}          5.0  {'$date': 1609601106000}   \n",
       "\n",
       "   purchasedItemCount rewardsReceiptStatus totalSpent  \\\n",
       "0                 5.0             FINISHED      26.00   \n",
       "1                 2.0             FINISHED      11.00   \n",
       "2                 1.0             REJECTED      10.00   \n",
       "3                 4.0             FINISHED      28.00   \n",
       "4                 2.0             FINISHED       1.00   \n",
       "\n",
       "                     userId                receipt_id  \n",
       "0  5ff1e1eacfcf6c399c274ae6  5ff1e1eb0a720f0523000575  \n",
       "1  5ff1e194b6a9d73a3a9f1052  5ff1e1bb0a720f052300056b  \n",
       "2  5ff1e1f1cfcf6c399c274b0b  5ff1e1f10a720f052300057a  \n",
       "3  5ff1e1eacfcf6c399c274ae6  5ff1e1ee0a7214ada100056f  \n",
       "4  5ff1e194b6a9d73a3a9f1052  5ff1e1d20a7214ada1000561  "
      ]
     },
     "execution_count": 4,
     "metadata": {},
     "output_type": "execute_result"
    }
   ],
   "source": [
    "rec_clean_df = rec_df.dropna(subset=['rewardsReceiptItemList']).copy()\n",
    "order_ids = [i_d['$oid'] for i_d in rec_clean_df._id]\n",
    "rec_clean_df['receipt_id'] = order_ids\n",
    "rec_cl_df = rec_clean_df.drop(columns=['rewardsReceiptItemList','_id'])\n",
    "rec_cl_df.head()"
   ]
  },
  {
   "cell_type": "markdown",
   "id": "affected-oklahoma",
   "metadata": {},
   "source": [
    "#### Compare size of receipts dataframes without empty items and and with empty items."
   ]
  },
  {
   "cell_type": "code",
   "execution_count": 5,
   "id": "armed-shore",
   "metadata": {},
   "outputs": [
    {
     "name": "stdout",
     "output_type": "stream",
     "text": [
      "This is DF with all receipts: (1119, 15), \n",
      "This is DF without empty receipts: (679, 16)\n"
     ]
    }
   ],
   "source": [
    "print(f'This is DF with all receipts: {rec_df.shape}, \\n\\\n",
    "This is DF without empty receipts: {rec_clean_df.shape}')"
   ]
  },
  {
   "cell_type": "markdown",
   "id": "scenic-springfield",
   "metadata": {},
   "source": [
    "#### Now, lets reformat the date fields."
   ]
  },
  {
   "cell_type": "code",
   "execution_count": 6,
   "id": "declared-gravity",
   "metadata": {},
   "outputs": [],
   "source": [
    "def extract_dates(df,column):\n",
    "    new_column = []\n",
    "    for dd in df[column]:\n",
    "        if type(dd) == dict:\n",
    "            new_dd = math.trunc(dd['$date']/1000)\n",
    "            new_dd = pd.to_datetime(new_dd, unit='s')\n",
    "            new_column.append(new_dd)\n",
    "        else:\n",
    "            new_column.append(dd)\n",
    "    df[column] = new_column\n",
    "    return df"
   ]
  },
  {
   "cell_type": "code",
   "execution_count": 7,
   "id": "exotic-adjustment",
   "metadata": {},
   "outputs": [],
   "source": [
    "rec_formatted_df = extract_dates(rec_cl_df, 'createDate')\n",
    "rec_formatted_df = extract_dates(rec_formatted_df, 'dateScanned')\n",
    "rec_formatted_df = extract_dates(rec_formatted_df, 'finishedDate')\n",
    "rec_formatted_df = extract_dates(rec_formatted_df, 'modifyDate')\n",
    "rec_formatted_df = extract_dates(rec_formatted_df, 'pointsAwardedDate')\n",
    "rec_formatted_df = extract_dates(rec_formatted_df, 'purchaseDate')"
   ]
  },
  {
   "cell_type": "code",
   "execution_count": 8,
   "id": "5578d2db",
   "metadata": {},
   "outputs": [
    {
     "data": {
      "text/html": [
       "<div>\n",
       "<style scoped>\n",
       "    .dataframe tbody tr th:only-of-type {\n",
       "        vertical-align: middle;\n",
       "    }\n",
       "\n",
       "    .dataframe tbody tr th {\n",
       "        vertical-align: top;\n",
       "    }\n",
       "\n",
       "    .dataframe thead th {\n",
       "        text-align: right;\n",
       "    }\n",
       "</style>\n",
       "<table border=\"1\" class=\"dataframe\">\n",
       "  <thead>\n",
       "    <tr style=\"text-align: right;\">\n",
       "      <th></th>\n",
       "      <th>bonusPointsEarned</th>\n",
       "      <th>bonusPointsEarnedReason</th>\n",
       "      <th>createDate</th>\n",
       "      <th>dateScanned</th>\n",
       "      <th>finishedDate</th>\n",
       "      <th>modifyDate</th>\n",
       "      <th>pointsAwardedDate</th>\n",
       "      <th>pointsEarned</th>\n",
       "      <th>purchaseDate</th>\n",
       "      <th>purchasedItemCount</th>\n",
       "      <th>rewardsReceiptStatus</th>\n",
       "      <th>totalSpent</th>\n",
       "      <th>userId</th>\n",
       "      <th>receipt_id</th>\n",
       "    </tr>\n",
       "  </thead>\n",
       "  <tbody>\n",
       "    <tr>\n",
       "      <th>0</th>\n",
       "      <td>500.0</td>\n",
       "      <td>Receipt number 2 completed, bonus point schedu...</td>\n",
       "      <td>2021-01-03 15:25:31</td>\n",
       "      <td>2021-01-03 15:25:31</td>\n",
       "      <td>2021-01-03 15:25:31</td>\n",
       "      <td>2021-01-03 15:25:36</td>\n",
       "      <td>2021-01-03 15:25:31</td>\n",
       "      <td>500.0</td>\n",
       "      <td>2021-01-03 00:00:00</td>\n",
       "      <td>5.0</td>\n",
       "      <td>FINISHED</td>\n",
       "      <td>26.00</td>\n",
       "      <td>5ff1e1eacfcf6c399c274ae6</td>\n",
       "      <td>5ff1e1eb0a720f0523000575</td>\n",
       "    </tr>\n",
       "    <tr>\n",
       "      <th>1</th>\n",
       "      <td>150.0</td>\n",
       "      <td>Receipt number 5 completed, bonus point schedu...</td>\n",
       "      <td>2021-01-03 15:24:43</td>\n",
       "      <td>2021-01-03 15:24:43</td>\n",
       "      <td>2021-01-03 15:24:43</td>\n",
       "      <td>2021-01-03 15:24:48</td>\n",
       "      <td>2021-01-03 15:24:43</td>\n",
       "      <td>150.0</td>\n",
       "      <td>2021-01-02 15:24:43</td>\n",
       "      <td>2.0</td>\n",
       "      <td>FINISHED</td>\n",
       "      <td>11.00</td>\n",
       "      <td>5ff1e194b6a9d73a3a9f1052</td>\n",
       "      <td>5ff1e1bb0a720f052300056b</td>\n",
       "    </tr>\n",
       "    <tr>\n",
       "      <th>2</th>\n",
       "      <td>5.0</td>\n",
       "      <td>All-receipts receipt bonus</td>\n",
       "      <td>2021-01-03 15:25:37</td>\n",
       "      <td>2021-01-03 15:25:37</td>\n",
       "      <td>NaT</td>\n",
       "      <td>2021-01-03 15:25:42</td>\n",
       "      <td>NaT</td>\n",
       "      <td>5</td>\n",
       "      <td>2021-01-03 00:00:00</td>\n",
       "      <td>1.0</td>\n",
       "      <td>REJECTED</td>\n",
       "      <td>10.00</td>\n",
       "      <td>5ff1e1f1cfcf6c399c274b0b</td>\n",
       "      <td>5ff1e1f10a720f052300057a</td>\n",
       "    </tr>\n",
       "    <tr>\n",
       "      <th>3</th>\n",
       "      <td>5.0</td>\n",
       "      <td>All-receipts receipt bonus</td>\n",
       "      <td>2021-01-03 15:25:34</td>\n",
       "      <td>2021-01-03 15:25:34</td>\n",
       "      <td>2021-01-03 15:25:34</td>\n",
       "      <td>2021-01-03 15:25:39</td>\n",
       "      <td>2021-01-03 15:25:34</td>\n",
       "      <td>5.0</td>\n",
       "      <td>2021-01-03 00:00:00</td>\n",
       "      <td>4.0</td>\n",
       "      <td>FINISHED</td>\n",
       "      <td>28.00</td>\n",
       "      <td>5ff1e1eacfcf6c399c274ae6</td>\n",
       "      <td>5ff1e1ee0a7214ada100056f</td>\n",
       "    </tr>\n",
       "    <tr>\n",
       "      <th>4</th>\n",
       "      <td>5.0</td>\n",
       "      <td>All-receipts receipt bonus</td>\n",
       "      <td>2021-01-03 15:25:06</td>\n",
       "      <td>2021-01-03 15:25:06</td>\n",
       "      <td>2021-01-03 15:25:11</td>\n",
       "      <td>2021-01-03 15:25:11</td>\n",
       "      <td>2021-01-03 15:25:06</td>\n",
       "      <td>5.0</td>\n",
       "      <td>2021-01-02 15:25:06</td>\n",
       "      <td>2.0</td>\n",
       "      <td>FINISHED</td>\n",
       "      <td>1.00</td>\n",
       "      <td>5ff1e194b6a9d73a3a9f1052</td>\n",
       "      <td>5ff1e1d20a7214ada1000561</td>\n",
       "    </tr>\n",
       "  </tbody>\n",
       "</table>\n",
       "</div>"
      ],
      "text/plain": [
       "   bonusPointsEarned                            bonusPointsEarnedReason  \\\n",
       "0              500.0  Receipt number 2 completed, bonus point schedu...   \n",
       "1              150.0  Receipt number 5 completed, bonus point schedu...   \n",
       "2                5.0                         All-receipts receipt bonus   \n",
       "3                5.0                         All-receipts receipt bonus   \n",
       "4                5.0                         All-receipts receipt bonus   \n",
       "\n",
       "           createDate         dateScanned        finishedDate  \\\n",
       "0 2021-01-03 15:25:31 2021-01-03 15:25:31 2021-01-03 15:25:31   \n",
       "1 2021-01-03 15:24:43 2021-01-03 15:24:43 2021-01-03 15:24:43   \n",
       "2 2021-01-03 15:25:37 2021-01-03 15:25:37                 NaT   \n",
       "3 2021-01-03 15:25:34 2021-01-03 15:25:34 2021-01-03 15:25:34   \n",
       "4 2021-01-03 15:25:06 2021-01-03 15:25:06 2021-01-03 15:25:11   \n",
       "\n",
       "           modifyDate   pointsAwardedDate pointsEarned        purchaseDate  \\\n",
       "0 2021-01-03 15:25:36 2021-01-03 15:25:31        500.0 2021-01-03 00:00:00   \n",
       "1 2021-01-03 15:24:48 2021-01-03 15:24:43        150.0 2021-01-02 15:24:43   \n",
       "2 2021-01-03 15:25:42                 NaT            5 2021-01-03 00:00:00   \n",
       "3 2021-01-03 15:25:39 2021-01-03 15:25:34          5.0 2021-01-03 00:00:00   \n",
       "4 2021-01-03 15:25:11 2021-01-03 15:25:06          5.0 2021-01-02 15:25:06   \n",
       "\n",
       "   purchasedItemCount rewardsReceiptStatus totalSpent  \\\n",
       "0                 5.0             FINISHED      26.00   \n",
       "1                 2.0             FINISHED      11.00   \n",
       "2                 1.0             REJECTED      10.00   \n",
       "3                 4.0             FINISHED      28.00   \n",
       "4                 2.0             FINISHED       1.00   \n",
       "\n",
       "                     userId                receipt_id  \n",
       "0  5ff1e1eacfcf6c399c274ae6  5ff1e1eb0a720f0523000575  \n",
       "1  5ff1e194b6a9d73a3a9f1052  5ff1e1bb0a720f052300056b  \n",
       "2  5ff1e1f1cfcf6c399c274b0b  5ff1e1f10a720f052300057a  \n",
       "3  5ff1e1eacfcf6c399c274ae6  5ff1e1ee0a7214ada100056f  \n",
       "4  5ff1e194b6a9d73a3a9f1052  5ff1e1d20a7214ada1000561  "
      ]
     },
     "execution_count": 8,
     "metadata": {},
     "output_type": "execute_result"
    }
   ],
   "source": [
    "rec_formatted_df.head()"
   ]
  },
  {
   "cell_type": "markdown",
   "id": "9cab5fbd",
   "metadata": {},
   "source": [
    "#### Checking for datatypes and converting if needed."
   ]
  },
  {
   "cell_type": "code",
   "execution_count": 9,
   "id": "45360a34",
   "metadata": {},
   "outputs": [
    {
     "data": {
      "text/plain": [
       "bonusPointsEarned                 float64\n",
       "bonusPointsEarnedReason            object\n",
       "createDate                 datetime64[ns]\n",
       "dateScanned                datetime64[ns]\n",
       "finishedDate               datetime64[ns]\n",
       "modifyDate                 datetime64[ns]\n",
       "pointsAwardedDate          datetime64[ns]\n",
       "pointsEarned                       object\n",
       "purchaseDate               datetime64[ns]\n",
       "purchasedItemCount                float64\n",
       "rewardsReceiptStatus               object\n",
       "totalSpent                         object\n",
       "userId                             object\n",
       "receipt_id                         object\n",
       "dtype: object"
      ]
     },
     "execution_count": 9,
     "metadata": {},
     "output_type": "execute_result"
    }
   ],
   "source": [
    "rec_formatted_df.dtypes"
   ]
  },
  {
   "cell_type": "code",
   "execution_count": 10,
   "id": "2331228b",
   "metadata": {},
   "outputs": [],
   "source": [
    "rec_formatted_df = rec_formatted_df.astype({'pointsEarned': 'float64',\n",
    "                                            'purchasedItemCount': 'Int64',\n",
    "                                            'totalSpent': 'float64'})"
   ]
  },
  {
   "cell_type": "markdown",
   "id": "dddde94f",
   "metadata": {},
   "source": [
    "#### Now let's see our data types :"
   ]
  },
  {
   "cell_type": "code",
   "execution_count": 11,
   "id": "94ccf2c2",
   "metadata": {},
   "outputs": [
    {
     "data": {
      "text/plain": [
       "bonusPointsEarned                 float64\n",
       "bonusPointsEarnedReason            object\n",
       "createDate                 datetime64[ns]\n",
       "dateScanned                datetime64[ns]\n",
       "finishedDate               datetime64[ns]\n",
       "modifyDate                 datetime64[ns]\n",
       "pointsAwardedDate          datetime64[ns]\n",
       "pointsEarned                      float64\n",
       "purchaseDate               datetime64[ns]\n",
       "purchasedItemCount                  Int64\n",
       "rewardsReceiptStatus               object\n",
       "totalSpent                        float64\n",
       "userId                             object\n",
       "receipt_id                         object\n",
       "dtype: object"
      ]
     },
     "execution_count": 11,
     "metadata": {},
     "output_type": "execute_result"
    }
   ],
   "source": [
    "rec_formatted_df.dtypes"
   ]
  },
  {
   "cell_type": "markdown",
   "id": "early-andorra",
   "metadata": {},
   "source": [
    "## Creating dataframe with items and corresponding receipt_id for our junction table \"Items\"."
   ]
  },
  {
   "cell_type": "code",
   "execution_count": 12,
   "id": "potential-restaurant",
   "metadata": {},
   "outputs": [],
   "source": [
    "order_item_list_data = [x for x in rec_clean_df.rewardsReceiptItemList]\n",
    "order_ids = [i_d['$oid'] for i_d in rec_clean_df._id]"
   ]
  },
  {
   "cell_type": "code",
   "execution_count": 13,
   "id": "offshore-works",
   "metadata": {},
   "outputs": [],
   "source": [
    "for index, order in enumerate(order_item_list_data):\n",
    "    try:\n",
    "        for item in order:\n",
    "            item['receipt_id'] = order_ids[index]\n",
    "    except TypeError:\n",
    "        print(f'We have cougth missing value at position {index}')"
   ]
  },
  {
   "cell_type": "markdown",
   "id": "eacedb50",
   "metadata": {},
   "source": [
    "#### Now , Let's check if items have receipt_id on them:"
   ]
  },
  {
   "cell_type": "code",
   "execution_count": 14,
   "id": "e444a71f",
   "metadata": {},
   "outputs": [
    {
     "data": {
      "text/plain": [
       "[[{'barcode': '4011',\n",
       "   'description': 'ITEM NOT FOUND',\n",
       "   'finalPrice': '26.00',\n",
       "   'itemPrice': '26.00',\n",
       "   'needsFetchReview': False,\n",
       "   'partnerItemId': '1',\n",
       "   'preventTargetGapPoints': True,\n",
       "   'quantityPurchased': 5,\n",
       "   'userFlaggedBarcode': '4011',\n",
       "   'userFlaggedNewItem': True,\n",
       "   'userFlaggedPrice': '26.00',\n",
       "   'userFlaggedQuantity': 5,\n",
       "   'receipt_id': '5ff1e1eb0a720f0523000575'}],\n",
       " [{'barcode': '4011',\n",
       "   'description': 'ITEM NOT FOUND',\n",
       "   'finalPrice': '1',\n",
       "   'itemPrice': '1',\n",
       "   'partnerItemId': '1',\n",
       "   'quantityPurchased': 1,\n",
       "   'receipt_id': '5ff1e1bb0a720f052300056b'},\n",
       "  {'barcode': '028400642255',\n",
       "   'description': 'DORITOS TORTILLA CHIP SPICY SWEET CHILI REDUCED FAT BAG 1 OZ',\n",
       "   'finalPrice': '10.00',\n",
       "   'itemPrice': '10.00',\n",
       "   'needsFetchReview': True,\n",
       "   'needsFetchReviewReason': 'USER_FLAGGED',\n",
       "   'partnerItemId': '2',\n",
       "   'pointsNotAwardedReason': 'Action not allowed for user and CPG',\n",
       "   'pointsPayerId': '5332f5fbe4b03c9a25efd0ba',\n",
       "   'preventTargetGapPoints': True,\n",
       "   'quantityPurchased': 1,\n",
       "   'rewardsGroup': 'DORITOS SPICY SWEET CHILI SINGLE SERVE',\n",
       "   'rewardsProductPartnerId': '5332f5fbe4b03c9a25efd0ba',\n",
       "   'userFlaggedBarcode': '028400642255',\n",
       "   'userFlaggedDescription': 'DORITOS TORTILLA CHIP SPICY SWEET CHILI REDUCED FAT BAG 1 OZ',\n",
       "   'userFlaggedNewItem': True,\n",
       "   'userFlaggedPrice': '10.00',\n",
       "   'userFlaggedQuantity': 1,\n",
       "   'receipt_id': '5ff1e1bb0a720f052300056b'}]]"
      ]
     },
     "execution_count": 14,
     "metadata": {},
     "output_type": "execute_result"
    }
   ],
   "source": [
    "order_item_list_data[0:2]"
   ]
  },
  {
   "cell_type": "markdown",
   "id": "funky-petite",
   "metadata": {},
   "source": [
    "#### Now, when every item in a list have order_id we can split them and create items_formatted_df."
   ]
  },
  {
   "cell_type": "code",
   "execution_count": 15,
   "id": "phantom-retrieval",
   "metadata": {},
   "outputs": [
    {
     "data": {
      "text/html": [
       "<div>\n",
       "<style scoped>\n",
       "    .dataframe tbody tr th:only-of-type {\n",
       "        vertical-align: middle;\n",
       "    }\n",
       "\n",
       "    .dataframe tbody tr th {\n",
       "        vertical-align: top;\n",
       "    }\n",
       "\n",
       "    .dataframe thead th {\n",
       "        text-align: right;\n",
       "    }\n",
       "</style>\n",
       "<table border=\"1\" class=\"dataframe\">\n",
       "  <thead>\n",
       "    <tr style=\"text-align: right;\">\n",
       "      <th></th>\n",
       "      <th>barcode</th>\n",
       "      <th>description</th>\n",
       "      <th>finalPrice</th>\n",
       "      <th>itemPrice</th>\n",
       "      <th>needsFetchReview</th>\n",
       "      <th>partnerItemId</th>\n",
       "      <th>preventTargetGapPoints</th>\n",
       "      <th>quantityPurchased</th>\n",
       "      <th>userFlaggedBarcode</th>\n",
       "      <th>userFlaggedNewItem</th>\n",
       "      <th>userFlaggedPrice</th>\n",
       "      <th>userFlaggedQuantity</th>\n",
       "      <th>receipt_id</th>\n",
       "      <th>needsFetchReviewReason</th>\n",
       "      <th>pointsNotAwardedReason</th>\n",
       "      <th>pointsPayerId</th>\n",
       "      <th>rewardsGroup</th>\n",
       "      <th>rewardsProductPartnerId</th>\n",
       "      <th>userFlaggedDescription</th>\n",
       "      <th>originalMetaBriteBarcode</th>\n",
       "      <th>originalMetaBriteDescription</th>\n",
       "      <th>brandCode</th>\n",
       "      <th>competitorRewardsGroup</th>\n",
       "      <th>discountedItemPrice</th>\n",
       "      <th>originalReceiptItemText</th>\n",
       "      <th>itemNumber</th>\n",
       "      <th>originalMetaBriteQuantityPurchased</th>\n",
       "      <th>pointsEarned</th>\n",
       "      <th>targetPrice</th>\n",
       "      <th>competitiveProduct</th>\n",
       "      <th>originalFinalPrice</th>\n",
       "      <th>originalMetaBriteItemPrice</th>\n",
       "      <th>deleted</th>\n",
       "      <th>priceAfterCoupon</th>\n",
       "      <th>metabriteCampaignId</th>\n",
       "    </tr>\n",
       "  </thead>\n",
       "  <tbody>\n",
       "    <tr>\n",
       "      <th>0</th>\n",
       "      <td>4011</td>\n",
       "      <td>ITEM NOT FOUND</td>\n",
       "      <td>26.00</td>\n",
       "      <td>26.00</td>\n",
       "      <td>False</td>\n",
       "      <td>1</td>\n",
       "      <td>True</td>\n",
       "      <td>5.0</td>\n",
       "      <td>4011</td>\n",
       "      <td>True</td>\n",
       "      <td>26.00</td>\n",
       "      <td>5.0</td>\n",
       "      <td>5ff1e1eb0a720f0523000575</td>\n",
       "      <td>NaN</td>\n",
       "      <td>NaN</td>\n",
       "      <td>NaN</td>\n",
       "      <td>NaN</td>\n",
       "      <td>NaN</td>\n",
       "      <td>NaN</td>\n",
       "      <td>NaN</td>\n",
       "      <td>NaN</td>\n",
       "      <td>NaN</td>\n",
       "      <td>NaN</td>\n",
       "      <td>NaN</td>\n",
       "      <td>NaN</td>\n",
       "      <td>NaN</td>\n",
       "      <td>NaN</td>\n",
       "      <td>NaN</td>\n",
       "      <td>NaN</td>\n",
       "      <td>NaN</td>\n",
       "      <td>NaN</td>\n",
       "      <td>NaN</td>\n",
       "      <td>NaN</td>\n",
       "      <td>NaN</td>\n",
       "      <td>NaN</td>\n",
       "    </tr>\n",
       "    <tr>\n",
       "      <th>1</th>\n",
       "      <td>4011</td>\n",
       "      <td>ITEM NOT FOUND</td>\n",
       "      <td>1</td>\n",
       "      <td>1</td>\n",
       "      <td>NaN</td>\n",
       "      <td>1</td>\n",
       "      <td>NaN</td>\n",
       "      <td>1.0</td>\n",
       "      <td>NaN</td>\n",
       "      <td>NaN</td>\n",
       "      <td>NaN</td>\n",
       "      <td>NaN</td>\n",
       "      <td>5ff1e1bb0a720f052300056b</td>\n",
       "      <td>NaN</td>\n",
       "      <td>NaN</td>\n",
       "      <td>NaN</td>\n",
       "      <td>NaN</td>\n",
       "      <td>NaN</td>\n",
       "      <td>NaN</td>\n",
       "      <td>NaN</td>\n",
       "      <td>NaN</td>\n",
       "      <td>NaN</td>\n",
       "      <td>NaN</td>\n",
       "      <td>NaN</td>\n",
       "      <td>NaN</td>\n",
       "      <td>NaN</td>\n",
       "      <td>NaN</td>\n",
       "      <td>NaN</td>\n",
       "      <td>NaN</td>\n",
       "      <td>NaN</td>\n",
       "      <td>NaN</td>\n",
       "      <td>NaN</td>\n",
       "      <td>NaN</td>\n",
       "      <td>NaN</td>\n",
       "      <td>NaN</td>\n",
       "    </tr>\n",
       "    <tr>\n",
       "      <th>2</th>\n",
       "      <td>028400642255</td>\n",
       "      <td>DORITOS TORTILLA CHIP SPICY SWEET CHILI REDUCE...</td>\n",
       "      <td>10.00</td>\n",
       "      <td>10.00</td>\n",
       "      <td>True</td>\n",
       "      <td>2</td>\n",
       "      <td>True</td>\n",
       "      <td>1.0</td>\n",
       "      <td>028400642255</td>\n",
       "      <td>True</td>\n",
       "      <td>10.00</td>\n",
       "      <td>1.0</td>\n",
       "      <td>5ff1e1bb0a720f052300056b</td>\n",
       "      <td>USER_FLAGGED</td>\n",
       "      <td>Action not allowed for user and CPG</td>\n",
       "      <td>5332f5fbe4b03c9a25efd0ba</td>\n",
       "      <td>DORITOS SPICY SWEET CHILI SINGLE SERVE</td>\n",
       "      <td>5332f5fbe4b03c9a25efd0ba</td>\n",
       "      <td>DORITOS TORTILLA CHIP SPICY SWEET CHILI REDUCE...</td>\n",
       "      <td>NaN</td>\n",
       "      <td>NaN</td>\n",
       "      <td>NaN</td>\n",
       "      <td>NaN</td>\n",
       "      <td>NaN</td>\n",
       "      <td>NaN</td>\n",
       "      <td>NaN</td>\n",
       "      <td>NaN</td>\n",
       "      <td>NaN</td>\n",
       "      <td>NaN</td>\n",
       "      <td>NaN</td>\n",
       "      <td>NaN</td>\n",
       "      <td>NaN</td>\n",
       "      <td>NaN</td>\n",
       "      <td>NaN</td>\n",
       "      <td>NaN</td>\n",
       "    </tr>\n",
       "    <tr>\n",
       "      <th>3</th>\n",
       "      <td>NaN</td>\n",
       "      <td>NaN</td>\n",
       "      <td>NaN</td>\n",
       "      <td>NaN</td>\n",
       "      <td>False</td>\n",
       "      <td>1</td>\n",
       "      <td>True</td>\n",
       "      <td>NaN</td>\n",
       "      <td>4011</td>\n",
       "      <td>True</td>\n",
       "      <td>26.00</td>\n",
       "      <td>3.0</td>\n",
       "      <td>5ff1e1f10a720f052300057a</td>\n",
       "      <td>NaN</td>\n",
       "      <td>NaN</td>\n",
       "      <td>NaN</td>\n",
       "      <td>NaN</td>\n",
       "      <td>NaN</td>\n",
       "      <td>NaN</td>\n",
       "      <td>NaN</td>\n",
       "      <td>NaN</td>\n",
       "      <td>NaN</td>\n",
       "      <td>NaN</td>\n",
       "      <td>NaN</td>\n",
       "      <td>NaN</td>\n",
       "      <td>NaN</td>\n",
       "      <td>NaN</td>\n",
       "      <td>NaN</td>\n",
       "      <td>NaN</td>\n",
       "      <td>NaN</td>\n",
       "      <td>NaN</td>\n",
       "      <td>NaN</td>\n",
       "      <td>NaN</td>\n",
       "      <td>NaN</td>\n",
       "      <td>NaN</td>\n",
       "    </tr>\n",
       "    <tr>\n",
       "      <th>4</th>\n",
       "      <td>4011</td>\n",
       "      <td>ITEM NOT FOUND</td>\n",
       "      <td>28.00</td>\n",
       "      <td>28.00</td>\n",
       "      <td>False</td>\n",
       "      <td>1</td>\n",
       "      <td>True</td>\n",
       "      <td>4.0</td>\n",
       "      <td>4011</td>\n",
       "      <td>True</td>\n",
       "      <td>28.00</td>\n",
       "      <td>4.0</td>\n",
       "      <td>5ff1e1ee0a7214ada100056f</td>\n",
       "      <td>NaN</td>\n",
       "      <td>NaN</td>\n",
       "      <td>NaN</td>\n",
       "      <td>NaN</td>\n",
       "      <td>NaN</td>\n",
       "      <td>NaN</td>\n",
       "      <td>NaN</td>\n",
       "      <td>NaN</td>\n",
       "      <td>NaN</td>\n",
       "      <td>NaN</td>\n",
       "      <td>NaN</td>\n",
       "      <td>NaN</td>\n",
       "      <td>NaN</td>\n",
       "      <td>NaN</td>\n",
       "      <td>NaN</td>\n",
       "      <td>NaN</td>\n",
       "      <td>NaN</td>\n",
       "      <td>NaN</td>\n",
       "      <td>NaN</td>\n",
       "      <td>NaN</td>\n",
       "      <td>NaN</td>\n",
       "      <td>NaN</td>\n",
       "    </tr>\n",
       "  </tbody>\n",
       "</table>\n",
       "</div>"
      ],
      "text/plain": [
       "        barcode                                        description finalPrice  \\\n",
       "0          4011                                     ITEM NOT FOUND      26.00   \n",
       "1          4011                                     ITEM NOT FOUND          1   \n",
       "2  028400642255  DORITOS TORTILLA CHIP SPICY SWEET CHILI REDUCE...      10.00   \n",
       "3           NaN                                                NaN        NaN   \n",
       "4          4011                                     ITEM NOT FOUND      28.00   \n",
       "\n",
       "  itemPrice needsFetchReview partnerItemId preventTargetGapPoints  \\\n",
       "0     26.00            False             1                   True   \n",
       "1         1              NaN             1                    NaN   \n",
       "2     10.00             True             2                   True   \n",
       "3       NaN            False             1                   True   \n",
       "4     28.00            False             1                   True   \n",
       "\n",
       "   quantityPurchased userFlaggedBarcode userFlaggedNewItem userFlaggedPrice  \\\n",
       "0                5.0               4011               True            26.00   \n",
       "1                1.0                NaN                NaN              NaN   \n",
       "2                1.0       028400642255               True            10.00   \n",
       "3                NaN               4011               True            26.00   \n",
       "4                4.0               4011               True            28.00   \n",
       "\n",
       "   userFlaggedQuantity                receipt_id needsFetchReviewReason  \\\n",
       "0                  5.0  5ff1e1eb0a720f0523000575                    NaN   \n",
       "1                  NaN  5ff1e1bb0a720f052300056b                    NaN   \n",
       "2                  1.0  5ff1e1bb0a720f052300056b           USER_FLAGGED   \n",
       "3                  3.0  5ff1e1f10a720f052300057a                    NaN   \n",
       "4                  4.0  5ff1e1ee0a7214ada100056f                    NaN   \n",
       "\n",
       "                pointsNotAwardedReason             pointsPayerId  \\\n",
       "0                                  NaN                       NaN   \n",
       "1                                  NaN                       NaN   \n",
       "2  Action not allowed for user and CPG  5332f5fbe4b03c9a25efd0ba   \n",
       "3                                  NaN                       NaN   \n",
       "4                                  NaN                       NaN   \n",
       "\n",
       "                             rewardsGroup   rewardsProductPartnerId  \\\n",
       "0                                     NaN                       NaN   \n",
       "1                                     NaN                       NaN   \n",
       "2  DORITOS SPICY SWEET CHILI SINGLE SERVE  5332f5fbe4b03c9a25efd0ba   \n",
       "3                                     NaN                       NaN   \n",
       "4                                     NaN                       NaN   \n",
       "\n",
       "                              userFlaggedDescription originalMetaBriteBarcode  \\\n",
       "0                                                NaN                      NaN   \n",
       "1                                                NaN                      NaN   \n",
       "2  DORITOS TORTILLA CHIP SPICY SWEET CHILI REDUCE...                      NaN   \n",
       "3                                                NaN                      NaN   \n",
       "4                                                NaN                      NaN   \n",
       "\n",
       "  originalMetaBriteDescription brandCode competitorRewardsGroup  \\\n",
       "0                          NaN       NaN                    NaN   \n",
       "1                          NaN       NaN                    NaN   \n",
       "2                          NaN       NaN                    NaN   \n",
       "3                          NaN       NaN                    NaN   \n",
       "4                          NaN       NaN                    NaN   \n",
       "\n",
       "  discountedItemPrice originalReceiptItemText itemNumber  \\\n",
       "0                 NaN                     NaN        NaN   \n",
       "1                 NaN                     NaN        NaN   \n",
       "2                 NaN                     NaN        NaN   \n",
       "3                 NaN                     NaN        NaN   \n",
       "4                 NaN                     NaN        NaN   \n",
       "\n",
       "   originalMetaBriteQuantityPurchased pointsEarned targetPrice  \\\n",
       "0                                 NaN          NaN         NaN   \n",
       "1                                 NaN          NaN         NaN   \n",
       "2                                 NaN          NaN         NaN   \n",
       "3                                 NaN          NaN         NaN   \n",
       "4                                 NaN          NaN         NaN   \n",
       "\n",
       "  competitiveProduct originalFinalPrice originalMetaBriteItemPrice deleted  \\\n",
       "0                NaN                NaN                        NaN     NaN   \n",
       "1                NaN                NaN                        NaN     NaN   \n",
       "2                NaN                NaN                        NaN     NaN   \n",
       "3                NaN                NaN                        NaN     NaN   \n",
       "4                NaN                NaN                        NaN     NaN   \n",
       "\n",
       "  priceAfterCoupon metabriteCampaignId  \n",
       "0              NaN                 NaN  \n",
       "1              NaN                 NaN  \n",
       "2              NaN                 NaN  \n",
       "3              NaN                 NaN  \n",
       "4              NaN                 NaN  "
      ]
     },
     "execution_count": 15,
     "metadata": {},
     "output_type": "execute_result"
    }
   ],
   "source": [
    "order_items_list = []\n",
    "for order in order_item_list_data:\n",
    "    for item in order:\n",
    "        order_items_list.append(item)\n",
    "        \n",
    "order_item_list_df = pd.DataFrame(order_items_list)\n",
    "items_formatted_df = order_item_list_df\n",
    "items_formatted_df.head()"
   ]
  },
  {
   "cell_type": "markdown",
   "id": "56df0c8e",
   "metadata": {},
   "source": [
    "#### Checking for data Types and converting is needed."
   ]
  },
  {
   "cell_type": "code",
   "execution_count": 16,
   "id": "49261957",
   "metadata": {},
   "outputs": [
    {
     "data": {
      "text/plain": [
       "barcode                                object\n",
       "description                            object\n",
       "finalPrice                             object\n",
       "itemPrice                              object\n",
       "needsFetchReview                       object\n",
       "partnerItemId                          object\n",
       "preventTargetGapPoints                 object\n",
       "quantityPurchased                     float64\n",
       "userFlaggedBarcode                     object\n",
       "userFlaggedNewItem                     object\n",
       "userFlaggedPrice                       object\n",
       "userFlaggedQuantity                   float64\n",
       "receipt_id                             object\n",
       "needsFetchReviewReason                 object\n",
       "pointsNotAwardedReason                 object\n",
       "pointsPayerId                          object\n",
       "rewardsGroup                           object\n",
       "rewardsProductPartnerId                object\n",
       "userFlaggedDescription                 object\n",
       "originalMetaBriteBarcode               object\n",
       "originalMetaBriteDescription           object\n",
       "brandCode                              object\n",
       "competitorRewardsGroup                 object\n",
       "discountedItemPrice                    object\n",
       "originalReceiptItemText                object\n",
       "itemNumber                             object\n",
       "originalMetaBriteQuantityPurchased    float64\n",
       "pointsEarned                           object\n",
       "targetPrice                            object\n",
       "competitiveProduct                     object\n",
       "originalFinalPrice                     object\n",
       "originalMetaBriteItemPrice             object\n",
       "deleted                                object\n",
       "priceAfterCoupon                       object\n",
       "metabriteCampaignId                    object\n",
       "dtype: object"
      ]
     },
     "execution_count": 16,
     "metadata": {},
     "output_type": "execute_result"
    }
   ],
   "source": [
    "items_formatted_df.dtypes"
   ]
  },
  {
   "cell_type": "code",
   "execution_count": 17,
   "id": "dd7a850b",
   "metadata": {},
   "outputs": [],
   "source": [
    "items_formatted_df = items_formatted_df.astype({'barcode': 'object',\n",
    "                                                 'finalPrice': 'float64',\n",
    "                                                 'itemPrice': 'float64',\n",
    "                                                 'needsFetchReview': 'bool',\n",
    "                                                 'partnerItemId': 'object',\n",
    "                                                 'preventTargetGapPoints': 'bool',\n",
    "                                                 'quantityPurchased': 'Int64',\n",
    "                                                 'userFlaggedBarcode': 'object',\n",
    "                                                 'userFlaggedNewItem': 'bool',\n",
    "                                                 'userFlaggedPrice': 'float64',\n",
    "                                                 'userFlaggedQuantity' :'Int64',\n",
    "                                                 'receipt_id': 'object',\n",
    "                                                 'needsFetchReviewReason': 'object',\n",
    "                                                 'pointsNotAwardedReason': 'object',\n",
    "                                                 'pointsPayerId': 'object',\n",
    "                                                 'discountedItemPrice': 'float64',\n",
    "                                                 'originalMetaBriteQuantityPurchased': 'Int64',\n",
    "                                                 'pointsEarned': 'float64',\n",
    "                                                 'targetPrice': 'float64',\n",
    "                                                 'originalFinalPrice': 'float64'\n",
    "                                                 })"
   ]
  },
  {
   "cell_type": "code",
   "execution_count": 18,
   "id": "2ea6fafb",
   "metadata": {},
   "outputs": [
    {
     "data": {
      "text/plain": [
       "barcode                                object\n",
       "description                            object\n",
       "finalPrice                            float64\n",
       "itemPrice                             float64\n",
       "needsFetchReview                         bool\n",
       "partnerItemId                          object\n",
       "preventTargetGapPoints                   bool\n",
       "quantityPurchased                       Int64\n",
       "userFlaggedBarcode                     object\n",
       "userFlaggedNewItem                       bool\n",
       "userFlaggedPrice                      float64\n",
       "userFlaggedQuantity                     Int64\n",
       "receipt_id                             object\n",
       "needsFetchReviewReason                 object\n",
       "pointsNotAwardedReason                 object\n",
       "pointsPayerId                          object\n",
       "rewardsGroup                           object\n",
       "rewardsProductPartnerId                object\n",
       "userFlaggedDescription                 object\n",
       "originalMetaBriteBarcode               object\n",
       "originalMetaBriteDescription           object\n",
       "brandCode                              object\n",
       "competitorRewardsGroup                 object\n",
       "discountedItemPrice                   float64\n",
       "originalReceiptItemText                object\n",
       "itemNumber                             object\n",
       "originalMetaBriteQuantityPurchased      Int64\n",
       "pointsEarned                          float64\n",
       "targetPrice                           float64\n",
       "competitiveProduct                     object\n",
       "originalFinalPrice                    float64\n",
       "originalMetaBriteItemPrice             object\n",
       "deleted                                object\n",
       "priceAfterCoupon                       object\n",
       "metabriteCampaignId                    object\n",
       "dtype: object"
      ]
     },
     "execution_count": 18,
     "metadata": {},
     "output_type": "execute_result"
    }
   ],
   "source": [
    "items_formatted_df.dtypes"
   ]
  },
  {
   "cell_type": "markdown",
   "id": "e88df7fd",
   "metadata": {},
   "source": [
    "#### Check if we have same number of receipts here (items_df) as in receipts DF to be sure we haven't missed anything."
   ]
  },
  {
   "cell_type": "code",
   "execution_count": 19,
   "id": "productive-carnival",
   "metadata": {},
   "outputs": [
    {
     "data": {
      "text/plain": [
       "679"
      ]
     },
     "execution_count": 19,
     "metadata": {},
     "output_type": "execute_result"
    }
   ],
   "source": [
    "items_formatted_df.groupby(by='receipt_id').count().shape[0]"
   ]
  },
  {
   "cell_type": "markdown",
   "id": "smaller-convenience",
   "metadata": {},
   "source": [
    "## Now let's format users.json.gz "
   ]
  },
  {
   "cell_type": "code",
   "execution_count": 20,
   "id": "acting-hometown",
   "metadata": {},
   "outputs": [
    {
     "data": {
      "text/html": [
       "<div>\n",
       "<style scoped>\n",
       "    .dataframe tbody tr th:only-of-type {\n",
       "        vertical-align: middle;\n",
       "    }\n",
       "\n",
       "    .dataframe tbody tr th {\n",
       "        vertical-align: top;\n",
       "    }\n",
       "\n",
       "    .dataframe thead th {\n",
       "        text-align: right;\n",
       "    }\n",
       "</style>\n",
       "<table border=\"1\" class=\"dataframe\">\n",
       "  <thead>\n",
       "    <tr style=\"text-align: right;\">\n",
       "      <th></th>\n",
       "      <th>_id</th>\n",
       "      <th>active</th>\n",
       "      <th>createdDate</th>\n",
       "      <th>lastLogin</th>\n",
       "      <th>role</th>\n",
       "      <th>signUpSource</th>\n",
       "      <th>state</th>\n",
       "    </tr>\n",
       "  </thead>\n",
       "  <tbody>\n",
       "    <tr>\n",
       "      <th>0</th>\n",
       "      <td>{'$oid': '5ff1e194b6a9d73a3a9f1052'}</td>\n",
       "      <td>True</td>\n",
       "      <td>{'$date': 1609687444800}</td>\n",
       "      <td>{'$date': 1609687537858}</td>\n",
       "      <td>consumer</td>\n",
       "      <td>Email</td>\n",
       "      <td>WI</td>\n",
       "    </tr>\n",
       "    <tr>\n",
       "      <th>1</th>\n",
       "      <td>{'$oid': '5ff1e194b6a9d73a3a9f1052'}</td>\n",
       "      <td>True</td>\n",
       "      <td>{'$date': 1609687444800}</td>\n",
       "      <td>{'$date': 1609687537858}</td>\n",
       "      <td>consumer</td>\n",
       "      <td>Email</td>\n",
       "      <td>WI</td>\n",
       "    </tr>\n",
       "    <tr>\n",
       "      <th>2</th>\n",
       "      <td>{'$oid': '5ff1e194b6a9d73a3a9f1052'}</td>\n",
       "      <td>True</td>\n",
       "      <td>{'$date': 1609687444800}</td>\n",
       "      <td>{'$date': 1609687537858}</td>\n",
       "      <td>consumer</td>\n",
       "      <td>Email</td>\n",
       "      <td>WI</td>\n",
       "    </tr>\n",
       "    <tr>\n",
       "      <th>3</th>\n",
       "      <td>{'$oid': '5ff1e1eacfcf6c399c274ae6'}</td>\n",
       "      <td>True</td>\n",
       "      <td>{'$date': 1609687530554}</td>\n",
       "      <td>{'$date': 1609687530597}</td>\n",
       "      <td>consumer</td>\n",
       "      <td>Email</td>\n",
       "      <td>WI</td>\n",
       "    </tr>\n",
       "    <tr>\n",
       "      <th>4</th>\n",
       "      <td>{'$oid': '5ff1e194b6a9d73a3a9f1052'}</td>\n",
       "      <td>True</td>\n",
       "      <td>{'$date': 1609687444800}</td>\n",
       "      <td>{'$date': 1609687537858}</td>\n",
       "      <td>consumer</td>\n",
       "      <td>Email</td>\n",
       "      <td>WI</td>\n",
       "    </tr>\n",
       "  </tbody>\n",
       "</table>\n",
       "</div>"
      ],
      "text/plain": [
       "                                    _id  active               createdDate  \\\n",
       "0  {'$oid': '5ff1e194b6a9d73a3a9f1052'}    True  {'$date': 1609687444800}   \n",
       "1  {'$oid': '5ff1e194b6a9d73a3a9f1052'}    True  {'$date': 1609687444800}   \n",
       "2  {'$oid': '5ff1e194b6a9d73a3a9f1052'}    True  {'$date': 1609687444800}   \n",
       "3  {'$oid': '5ff1e1eacfcf6c399c274ae6'}    True  {'$date': 1609687530554}   \n",
       "4  {'$oid': '5ff1e194b6a9d73a3a9f1052'}    True  {'$date': 1609687444800}   \n",
       "\n",
       "                  lastLogin      role signUpSource state  \n",
       "0  {'$date': 1609687537858}  consumer        Email    WI  \n",
       "1  {'$date': 1609687537858}  consumer        Email    WI  \n",
       "2  {'$date': 1609687537858}  consumer        Email    WI  \n",
       "3  {'$date': 1609687530597}  consumer        Email    WI  \n",
       "4  {'$date': 1609687537858}  consumer        Email    WI  "
      ]
     },
     "execution_count": 20,
     "metadata": {},
     "output_type": "execute_result"
    }
   ],
   "source": [
    "user_data = [json.loads(line) for line in gzip.open(\"users.json.gz\", \"r\")]\n",
    "user_df = pd.DataFrame(user_data)\n",
    "user_df.head()"
   ]
  },
  {
   "cell_type": "code",
   "execution_count": 21,
   "id": "amber-interference",
   "metadata": {},
   "outputs": [],
   "source": [
    "users_id_list = [i['$oid'] for i in user_df._id]"
   ]
  },
  {
   "cell_type": "code",
   "execution_count": 22,
   "id": "convenient-clark",
   "metadata": {},
   "outputs": [
    {
     "data": {
      "text/html": [
       "<div>\n",
       "<style scoped>\n",
       "    .dataframe tbody tr th:only-of-type {\n",
       "        vertical-align: middle;\n",
       "    }\n",
       "\n",
       "    .dataframe tbody tr th {\n",
       "        vertical-align: top;\n",
       "    }\n",
       "\n",
       "    .dataframe thead th {\n",
       "        text-align: right;\n",
       "    }\n",
       "</style>\n",
       "<table border=\"1\" class=\"dataframe\">\n",
       "  <thead>\n",
       "    <tr style=\"text-align: right;\">\n",
       "      <th></th>\n",
       "      <th>_id</th>\n",
       "      <th>active</th>\n",
       "      <th>createdDate</th>\n",
       "      <th>lastLogin</th>\n",
       "      <th>role</th>\n",
       "      <th>signUpSource</th>\n",
       "      <th>state</th>\n",
       "    </tr>\n",
       "  </thead>\n",
       "  <tbody>\n",
       "    <tr>\n",
       "      <th>0</th>\n",
       "      <td>5ff1e194b6a9d73a3a9f1052</td>\n",
       "      <td>True</td>\n",
       "      <td>{'$date': 1609687444800}</td>\n",
       "      <td>{'$date': 1609687537858}</td>\n",
       "      <td>consumer</td>\n",
       "      <td>Email</td>\n",
       "      <td>WI</td>\n",
       "    </tr>\n",
       "    <tr>\n",
       "      <th>1</th>\n",
       "      <td>5ff1e194b6a9d73a3a9f1052</td>\n",
       "      <td>True</td>\n",
       "      <td>{'$date': 1609687444800}</td>\n",
       "      <td>{'$date': 1609687537858}</td>\n",
       "      <td>consumer</td>\n",
       "      <td>Email</td>\n",
       "      <td>WI</td>\n",
       "    </tr>\n",
       "    <tr>\n",
       "      <th>2</th>\n",
       "      <td>5ff1e194b6a9d73a3a9f1052</td>\n",
       "      <td>True</td>\n",
       "      <td>{'$date': 1609687444800}</td>\n",
       "      <td>{'$date': 1609687537858}</td>\n",
       "      <td>consumer</td>\n",
       "      <td>Email</td>\n",
       "      <td>WI</td>\n",
       "    </tr>\n",
       "    <tr>\n",
       "      <th>3</th>\n",
       "      <td>5ff1e1eacfcf6c399c274ae6</td>\n",
       "      <td>True</td>\n",
       "      <td>{'$date': 1609687530554}</td>\n",
       "      <td>{'$date': 1609687530597}</td>\n",
       "      <td>consumer</td>\n",
       "      <td>Email</td>\n",
       "      <td>WI</td>\n",
       "    </tr>\n",
       "    <tr>\n",
       "      <th>4</th>\n",
       "      <td>5ff1e194b6a9d73a3a9f1052</td>\n",
       "      <td>True</td>\n",
       "      <td>{'$date': 1609687444800}</td>\n",
       "      <td>{'$date': 1609687537858}</td>\n",
       "      <td>consumer</td>\n",
       "      <td>Email</td>\n",
       "      <td>WI</td>\n",
       "    </tr>\n",
       "  </tbody>\n",
       "</table>\n",
       "</div>"
      ],
      "text/plain": [
       "                        _id  active               createdDate  \\\n",
       "0  5ff1e194b6a9d73a3a9f1052    True  {'$date': 1609687444800}   \n",
       "1  5ff1e194b6a9d73a3a9f1052    True  {'$date': 1609687444800}   \n",
       "2  5ff1e194b6a9d73a3a9f1052    True  {'$date': 1609687444800}   \n",
       "3  5ff1e1eacfcf6c399c274ae6    True  {'$date': 1609687530554}   \n",
       "4  5ff1e194b6a9d73a3a9f1052    True  {'$date': 1609687444800}   \n",
       "\n",
       "                  lastLogin      role signUpSource state  \n",
       "0  {'$date': 1609687537858}  consumer        Email    WI  \n",
       "1  {'$date': 1609687537858}  consumer        Email    WI  \n",
       "2  {'$date': 1609687537858}  consumer        Email    WI  \n",
       "3  {'$date': 1609687530597}  consumer        Email    WI  \n",
       "4  {'$date': 1609687537858}  consumer        Email    WI  "
      ]
     },
     "execution_count": 22,
     "metadata": {},
     "output_type": "execute_result"
    }
   ],
   "source": [
    "user_df._id = users_id_list\n",
    "user_df.head()"
   ]
  },
  {
   "cell_type": "code",
   "execution_count": 23,
   "id": "painted-necessity",
   "metadata": {},
   "outputs": [
    {
     "name": "stdout",
     "output_type": "stream",
     "text": [
      "Checking for unique user ids for our DB later on: \n",
      " Number of rows: 495\n",
      " Number of unique ids: 212\n"
     ]
    }
   ],
   "source": [
    "user_formatted_df = extract_dates(user_df,'createdDate')\n",
    "user_formatted_df = extract_dates(user_formatted_df,'lastLogin')\n",
    "user_formatted_df = user_formatted_df.rename(columns={'_id':'user_id'})\n",
    "print (f'Checking for unique user ids for our DB later on: \\n \\\n",
    "Number of rows: {user_formatted_df.shape[0]}\\n \\\n",
    "Number of unique ids: {user_formatted_df.nunique()[0]}')"
   ]
  },
  {
   "cell_type": "markdown",
   "id": "f9e70e2c",
   "metadata": {},
   "source": [
    "#### Let's get rid of duplicates"
   ]
  },
  {
   "cell_type": "code",
   "execution_count": 24,
   "id": "22975040",
   "metadata": {},
   "outputs": [],
   "source": [
    "user_formatted_df = user_formatted_df.drop_duplicates(subset='user_id')"
   ]
  },
  {
   "cell_type": "markdown",
   "id": "a8133077",
   "metadata": {},
   "source": [
    "#### Formating data types:"
   ]
  },
  {
   "cell_type": "code",
   "execution_count": 25,
   "id": "2ed59fc7",
   "metadata": {},
   "outputs": [
    {
     "data": {
      "text/plain": [
       "user_id                 object\n",
       "active                    bool\n",
       "createdDate     datetime64[ns]\n",
       "lastLogin       datetime64[ns]\n",
       "role                    object\n",
       "signUpSource            object\n",
       "state                   object\n",
       "dtype: object"
      ]
     },
     "execution_count": 25,
     "metadata": {},
     "output_type": "execute_result"
    }
   ],
   "source": [
    "user_formatted_df.dtypes"
   ]
  },
  {
   "cell_type": "markdown",
   "id": "complicated-treatment",
   "metadata": {},
   "source": [
    "## Now, let's format brands.json.gz"
   ]
  },
  {
   "cell_type": "code",
   "execution_count": 26,
   "id": "stock-group",
   "metadata": {},
   "outputs": [
    {
     "data": {
      "text/html": [
       "<div>\n",
       "<style scoped>\n",
       "    .dataframe tbody tr th:only-of-type {\n",
       "        vertical-align: middle;\n",
       "    }\n",
       "\n",
       "    .dataframe tbody tr th {\n",
       "        vertical-align: top;\n",
       "    }\n",
       "\n",
       "    .dataframe thead th {\n",
       "        text-align: right;\n",
       "    }\n",
       "</style>\n",
       "<table border=\"1\" class=\"dataframe\">\n",
       "  <thead>\n",
       "    <tr style=\"text-align: right;\">\n",
       "      <th></th>\n",
       "      <th>barcode</th>\n",
       "      <th>category</th>\n",
       "      <th>categoryCode</th>\n",
       "      <th>name</th>\n",
       "      <th>topBrand</th>\n",
       "      <th>brand_id</th>\n",
       "      <th>cpg_id</th>\n",
       "      <th>cpg_reference</th>\n",
       "      <th>brandCode</th>\n",
       "    </tr>\n",
       "  </thead>\n",
       "  <tbody>\n",
       "    <tr>\n",
       "      <th>0</th>\n",
       "      <td>511111019862</td>\n",
       "      <td>Baking</td>\n",
       "      <td>BAKING</td>\n",
       "      <td>test brand @1612366101024</td>\n",
       "      <td>False</td>\n",
       "      <td>601ac115be37ce2ead437551</td>\n",
       "      <td>601ac114be37ce2ead437550</td>\n",
       "      <td>Cogs</td>\n",
       "      <td>NaN</td>\n",
       "    </tr>\n",
       "    <tr>\n",
       "      <th>1</th>\n",
       "      <td>511111519928</td>\n",
       "      <td>Beverages</td>\n",
       "      <td>BEVERAGES</td>\n",
       "      <td>Starbucks</td>\n",
       "      <td>False</td>\n",
       "      <td>601c5460be37ce2ead43755f</td>\n",
       "      <td>5332f5fbe4b03c9a25efd0ba</td>\n",
       "      <td>Cogs</td>\n",
       "      <td>STARBUCKS</td>\n",
       "    </tr>\n",
       "    <tr>\n",
       "      <th>2</th>\n",
       "      <td>511111819905</td>\n",
       "      <td>Baking</td>\n",
       "      <td>BAKING</td>\n",
       "      <td>test brand @1612366146176</td>\n",
       "      <td>False</td>\n",
       "      <td>601ac142be37ce2ead43755d</td>\n",
       "      <td>601ac142be37ce2ead437559</td>\n",
       "      <td>Cogs</td>\n",
       "      <td>TEST BRANDCODE @1612366146176</td>\n",
       "    </tr>\n",
       "    <tr>\n",
       "      <th>3</th>\n",
       "      <td>511111519874</td>\n",
       "      <td>Baking</td>\n",
       "      <td>BAKING</td>\n",
       "      <td>test brand @1612366146051</td>\n",
       "      <td>False</td>\n",
       "      <td>601ac142be37ce2ead43755a</td>\n",
       "      <td>601ac142be37ce2ead437559</td>\n",
       "      <td>Cogs</td>\n",
       "      <td>TEST BRANDCODE @1612366146051</td>\n",
       "    </tr>\n",
       "    <tr>\n",
       "      <th>4</th>\n",
       "      <td>511111319917</td>\n",
       "      <td>Candy &amp; Sweets</td>\n",
       "      <td>CANDY_AND_SWEETS</td>\n",
       "      <td>test brand @1612366146827</td>\n",
       "      <td>False</td>\n",
       "      <td>601ac142be37ce2ead43755e</td>\n",
       "      <td>5332fa12e4b03c9a25efd1e7</td>\n",
       "      <td>Cogs</td>\n",
       "      <td>TEST BRANDCODE @1612366146827</td>\n",
       "    </tr>\n",
       "  </tbody>\n",
       "</table>\n",
       "</div>"
      ],
      "text/plain": [
       "        barcode        category      categoryCode                       name  \\\n",
       "0  511111019862          Baking            BAKING  test brand @1612366101024   \n",
       "1  511111519928       Beverages         BEVERAGES                  Starbucks   \n",
       "2  511111819905          Baking            BAKING  test brand @1612366146176   \n",
       "3  511111519874          Baking            BAKING  test brand @1612366146051   \n",
       "4  511111319917  Candy & Sweets  CANDY_AND_SWEETS  test brand @1612366146827   \n",
       "\n",
       "  topBrand                  brand_id                    cpg_id cpg_reference  \\\n",
       "0    False  601ac115be37ce2ead437551  601ac114be37ce2ead437550          Cogs   \n",
       "1    False  601c5460be37ce2ead43755f  5332f5fbe4b03c9a25efd0ba          Cogs   \n",
       "2    False  601ac142be37ce2ead43755d  601ac142be37ce2ead437559          Cogs   \n",
       "3    False  601ac142be37ce2ead43755a  601ac142be37ce2ead437559          Cogs   \n",
       "4    False  601ac142be37ce2ead43755e  5332fa12e4b03c9a25efd1e7          Cogs   \n",
       "\n",
       "                       brandCode  \n",
       "0                            NaN  \n",
       "1                      STARBUCKS  \n",
       "2  TEST BRANDCODE @1612366146176  \n",
       "3  TEST BRANDCODE @1612366146051  \n",
       "4  TEST BRANDCODE @1612366146827  "
      ]
     },
     "execution_count": 26,
     "metadata": {},
     "output_type": "execute_result"
    }
   ],
   "source": [
    "br_data = [json.loads(line) for line in gzip.open(\"brands.json.gz\", \"r\")]\n",
    "br_df = pd.json_normalize(br_data)\n",
    "br_formatted_df = br_df.rename(columns={'_id.$oid': 'brand_id', 'cpg.$id.$oid': 'cpg_id', 'cpg.$ref': 'cpg_reference'})\n",
    "br_formatted_df.head()"
   ]
  },
  {
   "cell_type": "markdown",
   "id": "6416f6f4",
   "metadata": {},
   "source": [
    "#### Formating data types:"
   ]
  },
  {
   "cell_type": "code",
   "execution_count": 27,
   "id": "ddd6d8a8",
   "metadata": {},
   "outputs": [
    {
     "data": {
      "text/plain": [
       "barcode          object\n",
       "category         object\n",
       "categoryCode     object\n",
       "name             object\n",
       "topBrand         object\n",
       "brand_id         object\n",
       "cpg_id           object\n",
       "cpg_reference    object\n",
       "brandCode        object\n",
       "dtype: object"
      ]
     },
     "execution_count": 27,
     "metadata": {},
     "output_type": "execute_result"
    }
   ],
   "source": [
    "br_formatted_df.dtypes"
   ]
  },
  {
   "cell_type": "code",
   "execution_count": 28,
   "id": "ae70837a",
   "metadata": {},
   "outputs": [],
   "source": [
    "br_formatted_df = br_formatted_df.astype({'topBrand': 'bool'})"
   ]
  },
  {
   "cell_type": "code",
   "execution_count": 29,
   "id": "432fb310",
   "metadata": {},
   "outputs": [
    {
     "data": {
      "text/plain": [
       "barcode          object\n",
       "category         object\n",
       "categoryCode     object\n",
       "name             object\n",
       "topBrand           bool\n",
       "brand_id         object\n",
       "cpg_id           object\n",
       "cpg_reference    object\n",
       "brandCode        object\n",
       "dtype: object"
      ]
     },
     "execution_count": 29,
     "metadata": {},
     "output_type": "execute_result"
    }
   ],
   "source": [
    "br_formatted_df.dtypes"
   ]
  },
  {
   "cell_type": "markdown",
   "id": "885b877c",
   "metadata": {},
   "source": [
    "## These are our 4 Data Frames for SQL tables\n",
    "    rec_formatted_df\n",
    "    items_formatted_df\n",
    "    user_formatted_df\n",
    "    br_formatted_df"
   ]
  },
  {
   "cell_type": "code",
   "execution_count": 30,
   "id": "eac8f2b7",
   "metadata": {},
   "outputs": [],
   "source": [
    "engine = sqlalchemy.create_engine('sqlite:///fetch_rewards.db', echo = True)"
   ]
  },
  {
   "cell_type": "code",
   "execution_count": 31,
   "id": "50c8896f",
   "metadata": {},
   "outputs": [
    {
     "name": "stdout",
     "output_type": "stream",
     "text": [
      "2021-08-16 11:21:16,833 INFO sqlalchemy.engine.Engine PRAGMA main.table_info(\"temp_receipts\")\n",
      "2021-08-16 11:21:16,833 INFO sqlalchemy.engine.Engine [raw sql] ()\n",
      "2021-08-16 11:21:16,835 INFO sqlalchemy.engine.Engine PRAGMA temp.table_info(\"temp_receipts\")\n",
      "2021-08-16 11:21:16,835 INFO sqlalchemy.engine.Engine [raw sql] ()\n",
      "2021-08-16 11:21:16,837 INFO sqlalchemy.engine.Engine BEGIN (implicit)\n",
      "2021-08-16 11:21:16,838 INFO sqlalchemy.engine.Engine \n",
      "CREATE TABLE temp_receipts (\n",
      "\t\"index\" BIGINT, \n",
      "\t\"bonusPointsEarned\" FLOAT, \n",
      "\t\"bonusPointsEarnedReason\" TEXT, \n",
      "\t\"createDate\" DATETIME, \n",
      "\t\"dateScanned\" DATETIME, \n",
      "\t\"finishedDate\" DATETIME, \n",
      "\t\"modifyDate\" DATETIME, \n",
      "\t\"pointsAwardedDate\" DATETIME, \n",
      "\t\"pointsEarned\" FLOAT, \n",
      "\t\"purchaseDate\" DATETIME, \n",
      "\t\"purchasedItemCount\" BIGINT, \n",
      "\t\"rewardsReceiptStatus\" TEXT, \n",
      "\t\"totalSpent\" FLOAT, \n",
      "\t\"userId\" TEXT, \n",
      "\treceipt_id TEXT\n",
      ")\n",
      "\n",
      "\n",
      "2021-08-16 11:21:16,839 INFO sqlalchemy.engine.Engine [no key 0.00074s] ()\n",
      "2021-08-16 11:21:16,845 INFO sqlalchemy.engine.Engine CREATE INDEX ix_temp_receipts_index ON temp_receipts (\"index\")\n",
      "2021-08-16 11:21:16,845 INFO sqlalchemy.engine.Engine [no key 0.00051s] ()\n",
      "2021-08-16 11:21:16,849 INFO sqlalchemy.engine.Engine COMMIT\n",
      "2021-08-16 11:21:16,855 INFO sqlalchemy.engine.Engine BEGIN (implicit)\n",
      "2021-08-16 11:21:16,868 INFO sqlalchemy.engine.Engine INSERT INTO temp_receipts (\"index\", \"bonusPointsEarned\", \"bonusPointsEarnedReason\", \"createDate\", \"dateScanned\", \"finishedDate\", \"modifyDate\", \"pointsAwardedDate\", \"pointsEarned\", \"purchaseDate\", \"purchasedItemCount\", \"rewardsReceiptStatus\", \"totalSpent\", \"userId\", receipt_id) VALUES (?, ?, ?, ?, ?, ?, ?, ?, ?, ?, ?, ?, ?, ?, ?)\n",
      "2021-08-16 11:21:16,868 INFO sqlalchemy.engine.Engine [generated in 0.01120s] ((0, 500.0, 'Receipt number 2 completed, bonus point schedule DEFAULT (5cefdcacf3693e0b50e83a36)', '2021-01-03 15:25:31.000000', '2021-01-03 15:25:31.000000', '2021-01-03 15:25:31.000000', '2021-01-03 15:25:36.000000', '2021-01-03 15:25:31.000000', 500.0, '2021-01-03 00:00:00.000000', 5, 'FINISHED', 26.0, '5ff1e1eacfcf6c399c274ae6', '5ff1e1eb0a720f0523000575'), (1, 150.0, 'Receipt number 5 completed, bonus point schedule DEFAULT (5cefdcacf3693e0b50e83a36)', '2021-01-03 15:24:43.000000', '2021-01-03 15:24:43.000000', '2021-01-03 15:24:43.000000', '2021-01-03 15:24:48.000000', '2021-01-03 15:24:43.000000', 150.0, '2021-01-02 15:24:43.000000', 2, 'FINISHED', 11.0, '5ff1e194b6a9d73a3a9f1052', '5ff1e1bb0a720f052300056b'), (2, 5.0, 'All-receipts receipt bonus', '2021-01-03 15:25:37.000000', '2021-01-03 15:25:37.000000', None, '2021-01-03 15:25:42.000000', None, 5.0, '2021-01-03 00:00:00.000000', 1, 'REJECTED', 10.0, '5ff1e1f1cfcf6c399c274b0b', '5ff1e1f10a720f052300057a'), (3, 5.0, 'All-receipts receipt bonus', '2021-01-03 15:25:34.000000', '2021-01-03 15:25:34.000000', '2021-01-03 15:25:34.000000', '2021-01-03 15:25:39.000000', '2021-01-03 15:25:34.000000', 5.0, '2021-01-03 00:00:00.000000', 4, 'FINISHED', 28.0, '5ff1e1eacfcf6c399c274ae6', '5ff1e1ee0a7214ada100056f'), (4, 5.0, 'All-receipts receipt bonus', '2021-01-03 15:25:06.000000', '2021-01-03 15:25:06.000000', '2021-01-03 15:25:11.000000', '2021-01-03 15:25:11.000000', '2021-01-03 15:25:06.000000', 5.0, '2021-01-02 15:25:06.000000', 2, 'FINISHED', 1.0, '5ff1e194b6a9d73a3a9f1052', '5ff1e1d20a7214ada1000561'), (5, 750.0, 'Receipt number 1 completed, bonus point schedule DEFAULT (5cefdcacf3693e0b50e83a36)', '2021-01-03 15:25:24.000000', '2021-01-03 15:25:24.000000', '2021-01-03 15:25:25.000000', '2021-01-03 15:25:30.000000', '2021-01-03 15:25:25.000000', 750.0, '2021-01-02 15:25:24.000000', 1, 'FINISHED', 3.25, '5ff1e1e4cfcf6c399c274ac3', '5ff1e1e40a7214ada1000566'), (6, 5.0, 'All-receipts receipt bonus', '2021-01-03 15:25:01.000000', '2021-01-03 15:25:01.000000', '2021-01-03 15:25:02.000000', '2021-01-03 15:25:02.000000', '2021-01-03 15:25:02.000000', 5.0, '2021-01-03 15:25:01.000000', 1, 'FINISHED', 2.23, '5ff1e194b6a9d73a3a9f1052', '5ff1e1cd0a720f052300056f'), (7, 500.0, 'Receipt number 2 completed, bonus point schedule DEFAULT (5cefdcacf3693e0b50e83a36)', '2021-01-03 15:24:20.000000', '2021-01-03 15:24:20.000000', '2021-01-03 15:24:21.000000', '2021-01-03 15:24:21.000000', '2021-01-03 15:24:21.000000', 500.0, '2020-12-27 00:00:00.000000', 1, 'FINISHED', 10.0, '5ff1e194b6a9d73a3a9f1052', '5ff1e1a40a720f0523000569')  ... displaying 10 of 679 total bound parameter sets ...  (1114, 25.0, 'COMPLETE_NONPARTNER_RECEIPT', '2021-03-01 10:22:27.000000', '2021-03-01 10:22:27.000000', None, '2021-03-01 10:22:28.000000', None, 25.0, '2020-08-17 00:00:00.000000', 2, 'REJECTED', 34.96, '5fc961c3b8cfca11a077dd33', '603cc0630a720fde100003e6'), (1117, 25.0, 'COMPLETE_NONPARTNER_RECEIPT', '2021-03-01 13:07:28.000000', '2021-03-01 13:07:28.000000', None, '2021-03-01 13:07:29.000000', None, 25.0, '2020-08-17 00:00:00.000000', 2, 'REJECTED', 34.96, '5fc961c3b8cfca11a077dd33', '603ce7100a7217c72c000405'))\n",
      "2021-08-16 11:21:16,872 INFO sqlalchemy.engine.Engine COMMIT\n",
      "2021-08-16 11:21:16,887 INFO sqlalchemy.engine.Engine PRAGMA main.table_info(\"temp_items\")\n",
      "2021-08-16 11:21:16,888 INFO sqlalchemy.engine.Engine [raw sql] ()\n",
      "2021-08-16 11:21:16,889 INFO sqlalchemy.engine.Engine PRAGMA temp.table_info(\"temp_items\")\n",
      "2021-08-16 11:21:16,889 INFO sqlalchemy.engine.Engine [raw sql] ()\n",
      "2021-08-16 11:21:16,893 INFO sqlalchemy.engine.Engine BEGIN (implicit)\n",
      "2021-08-16 11:21:16,894 INFO sqlalchemy.engine.Engine \n",
      "CREATE TABLE temp_items (\n",
      "\t\"index\" BIGINT, \n",
      "\tbarcode TEXT, \n",
      "\tdescription TEXT, \n",
      "\t\"finalPrice\" FLOAT, \n",
      "\t\"itemPrice\" FLOAT, \n",
      "\t\"needsFetchReview\" BOOLEAN, \n",
      "\t\"partnerItemId\" TEXT, \n",
      "\t\"preventTargetGapPoints\" BOOLEAN, \n",
      "\t\"quantityPurchased\" BIGINT, \n",
      "\t\"userFlaggedBarcode\" TEXT, \n",
      "\t\"userFlaggedNewItem\" BOOLEAN, \n",
      "\t\"userFlaggedPrice\" FLOAT, \n",
      "\t\"userFlaggedQuantity\" BIGINT, \n",
      "\treceipt_id TEXT, \n",
      "\t\"needsFetchReviewReason\" TEXT, \n",
      "\t\"pointsNotAwardedReason\" TEXT, \n",
      "\t\"pointsPayerId\" TEXT, \n",
      "\t\"rewardsGroup\" TEXT, \n",
      "\t\"rewardsProductPartnerId\" TEXT, \n",
      "\t\"userFlaggedDescription\" TEXT, \n",
      "\t\"originalMetaBriteBarcode\" TEXT, \n",
      "\t\"originalMetaBriteDescription\" TEXT, \n",
      "\t\"brandCode\" TEXT, \n",
      "\t\"competitorRewardsGroup\" TEXT, \n",
      "\t\"discountedItemPrice\" FLOAT, \n",
      "\t\"originalReceiptItemText\" TEXT, \n",
      "\t\"itemNumber\" TEXT, \n",
      "\t\"originalMetaBriteQuantityPurchased\" BIGINT, \n",
      "\t\"pointsEarned\" FLOAT, \n",
      "\t\"targetPrice\" FLOAT, \n",
      "\t\"competitiveProduct\" BOOLEAN, \n",
      "\t\"originalFinalPrice\" FLOAT, \n",
      "\t\"originalMetaBriteItemPrice\" TEXT, \n",
      "\tdeleted BOOLEAN, \n",
      "\t\"priceAfterCoupon\" TEXT, \n",
      "\t\"metabriteCampaignId\" TEXT\n",
      ")\n",
      "\n",
      "\n",
      "2021-08-16 11:21:16,895 INFO sqlalchemy.engine.Engine [no key 0.00050s] ()\n",
      "2021-08-16 11:21:16,899 INFO sqlalchemy.engine.Engine CREATE INDEX ix_temp_items_index ON temp_items (\"index\")\n",
      "2021-08-16 11:21:16,900 INFO sqlalchemy.engine.Engine [no key 0.00116s] ()\n",
      "2021-08-16 11:21:16,904 INFO sqlalchemy.engine.Engine COMMIT\n",
      "2021-08-16 11:21:16,918 INFO sqlalchemy.engine.Engine BEGIN (implicit)\n",
      "2021-08-16 11:21:17,026 INFO sqlalchemy.engine.Engine INSERT INTO temp_items (\"index\", barcode, description, \"finalPrice\", \"itemPrice\", \"needsFetchReview\", \"partnerItemId\", \"preventTargetGapPoints\", \"quantityPurchased\", \"userFlaggedBarcode\", \"userFlaggedNewItem\", \"userFlaggedPrice\", \"userFlaggedQuantity\", receipt_id, \"needsFetchReviewReason\", \"pointsNotAwardedReason\", \"pointsPayerId\", \"rewardsGroup\", \"rewardsProductPartnerId\", \"userFlaggedDescription\", \"originalMetaBriteBarcode\", \"originalMetaBriteDescription\", \"brandCode\", \"competitorRewardsGroup\", \"discountedItemPrice\", \"originalReceiptItemText\", \"itemNumber\", \"originalMetaBriteQuantityPurchased\", \"pointsEarned\", \"targetPrice\", \"competitiveProduct\", \"originalFinalPrice\", \"originalMetaBriteItemPrice\", deleted, \"priceAfterCoupon\", \"metabriteCampaignId\") VALUES (?, ?, ?, ?, ?, ?, ?, ?, ?, ?, ?, ?, ?, ?, ?, ?, ?, ?, ?, ?, ?, ?, ?, ?, ?, ?, ?, ?, ?, ?, ?, ?, ?, ?, ?, ?)\n",
      "2021-08-16 11:21:17,027 INFO sqlalchemy.engine.Engine [generated in 0.08838s] ((0, '4011', 'ITEM NOT FOUND', 26.0, 26.0, 0, '1', 1, 5, '4011', 1, 26.0, 5, '5ff1e1eb0a720f0523000575', None, None, None, None, None, None, None, None, None, None, None, None, None, None, None, None, None, None, None, None, None, None), (1, '4011', 'ITEM NOT FOUND', 1.0, 1.0, 1, '1', 1, 1, None, 1, None, None, '5ff1e1bb0a720f052300056b', None, None, None, None, None, None, None, None, None, None, None, None, None, None, None, None, None, None, None, None, None, None), (2, '028400642255', 'DORITOS TORTILLA CHIP SPICY SWEET CHILI REDUCED FAT BAG 1 OZ', 10.0, 10.0, 1, '2', 1, 1, '028400642255', 1, 10.0, 1, '5ff1e1bb0a720f052300056b', 'USER_FLAGGED', 'Action not allowed for user and CPG', '5332f5fbe4b03c9a25efd0ba', 'DORITOS SPICY SWEET CHILI SINGLE SERVE', '5332f5fbe4b03c9a25efd0ba', 'DORITOS TORTILLA CHIP SPICY SWEET CHILI REDUCED FAT BAG 1 OZ', None, None, None, None, None, None, None, None, None, None, None, None, None, None, None, None), (3, None, None, None, None, 0, '1', 1, None, '4011', 1, 26.0, 3, '5ff1e1f10a720f052300057a', None, None, None, None, None, None, None, None, None, None, None, None, None, None, None, None, None, None, None, None, None, None), (4, '4011', 'ITEM NOT FOUND', 28.0, 28.0, 0, '1', 1, 4, '4011', 1, 28.0, 4, '5ff1e1ee0a7214ada100056f', None, None, None, None, None, None, None, None, None, None, None, None, None, None, None, None, None, None, None, None, None, None), (5, '4011', 'ITEM NOT FOUND', 1.0, 1.0, 1, '1', 1, 1, None, 1, None, None, '5ff1e1d20a7214ada1000561', None, None, None, None, None, None, None, None, None, None, None, None, None, None, None, None, None, None, None, None, None, None), (6, '1234', None, 2.56, 2.56, 1, '2', 1, 3, '1234', 1, 2.56, 3, '5ff1e1d20a7214ada1000561', 'USER_FLAGGED', None, None, None, None, '', None, None, None, None, None, None, None, None, None, None, None, None, None, None, None, None), (7, '4011', 'ITEM NOT FOUND', 3.25, 3.25, 0, '1', 1, 1, '4011', 1, None, None, '5ff1e1e40a7214ada1000566', None, 'Action not allowed for user and CPG', '5332f5fbe4b03c9a25efd0ba', 'DORITOS SPICY SWEET CHILI SINGLE SERVE', '5332f5fbe4b03c9a25efd0ba', None, '028400642255', 'DORITOS TORTILLA CHIP SPICY SWEET CHILI REDUCED FAT BAG 1 OZ', None, None, None, None, None, None, None, None, None, None, None, None, None, None)  ... displaying 10 of 6941 total bound parameter sets ...  (6939, 'B076FJ92M4', 'mueller austria hypergrind precision electric spice/coffee grinder millwith large grinding capacity and hd motor also for spices, herbs, nuts,grains, white', 22.97, 22.97, 1, '0', 1, 1, None, 1, None, None, '603ce7100a7217c72c000405', None, None, None, None, None, None, None, None, None, None, 22.97, 'mueller austria hypergrind precision electric spice/coffee grinder millwith large grinding capacity and hd motor also for spices, herbs, nuts,grains, white', None, None, None, None, None, None, None, None, '22.97', None), (6940, 'B07BRRLSVC', 'thindust summer face mask - sun protection neck gaiter for outdooractivities', 11.99, 11.99, 1, '1', 1, 1, None, 1, None, None, '603ce7100a7217c72c000405', None, None, None, None, None, None, None, None, None, None, 11.99, 'thindust summer face mask - sun protection neck gaiter for outdooractivities', None, None, None, None, None, None, None, None, '11.99', None))\n"
     ]
    },
    {
     "name": "stdout",
     "output_type": "stream",
     "text": [
      "2021-08-16 11:21:17,101 INFO sqlalchemy.engine.Engine COMMIT\n",
      "2021-08-16 11:21:17,112 INFO sqlalchemy.engine.Engine PRAGMA main.table_info(\"temp_users\")\n",
      "2021-08-16 11:21:17,113 INFO sqlalchemy.engine.Engine [raw sql] ()\n",
      "2021-08-16 11:21:17,113 INFO sqlalchemy.engine.Engine PRAGMA temp.table_info(\"temp_users\")\n",
      "2021-08-16 11:21:17,113 INFO sqlalchemy.engine.Engine [raw sql] ()\n",
      "2021-08-16 11:21:17,115 INFO sqlalchemy.engine.Engine BEGIN (implicit)\n",
      "2021-08-16 11:21:17,115 INFO sqlalchemy.engine.Engine \n",
      "CREATE TABLE temp_users (\n",
      "\t\"index\" BIGINT, \n",
      "\tuser_id TEXT, \n",
      "\tactive BOOLEAN, \n",
      "\t\"createdDate\" DATETIME, \n",
      "\t\"lastLogin\" DATETIME, \n",
      "\trole TEXT, \n",
      "\t\"signUpSource\" TEXT, \n",
      "\tstate TEXT\n",
      ")\n",
      "\n",
      "\n",
      "2021-08-16 11:21:17,116 INFO sqlalchemy.engine.Engine [no key 0.00062s] ()\n",
      "2021-08-16 11:21:17,120 INFO sqlalchemy.engine.Engine CREATE INDEX ix_temp_users_index ON temp_users (\"index\")\n",
      "2021-08-16 11:21:17,120 INFO sqlalchemy.engine.Engine [no key 0.00048s] ()\n",
      "2021-08-16 11:21:17,124 INFO sqlalchemy.engine.Engine COMMIT\n",
      "2021-08-16 11:21:17,126 INFO sqlalchemy.engine.Engine BEGIN (implicit)\n",
      "2021-08-16 11:21:17,130 INFO sqlalchemy.engine.Engine INSERT INTO temp_users (\"index\", user_id, active, \"createdDate\", \"lastLogin\", role, \"signUpSource\", state) VALUES (?, ?, ?, ?, ?, ?, ?, ?)\n",
      "2021-08-16 11:21:17,131 INFO sqlalchemy.engine.Engine [generated in 0.00202s] ((0, '5ff1e194b6a9d73a3a9f1052', 1, '2021-01-03 15:24:04.000000', '2021-01-03 15:25:37.000000', 'consumer', 'Email', 'WI'), (3, '5ff1e1eacfcf6c399c274ae6', 1, '2021-01-03 15:25:30.000000', '2021-01-03 15:25:30.000000', 'consumer', 'Email', 'WI'), (6, '5ff1e1e8cfcf6c399c274ad9', 1, '2021-01-03 15:25:28.000000', '2021-01-03 15:25:28.000000', 'consumer', 'Email', 'WI'), (7, '5ff1e1b7cfcf6c399c274a5a', 1, '2021-01-03 15:24:39.000000', '2021-01-03 15:24:39.000000', 'consumer', 'Email', 'WI'), (9, '5ff1e1f1cfcf6c399c274b0b', 1, '2021-01-03 15:25:37.000000', '2021-01-03 15:25:37.000000', 'consumer', 'Email', 'WI'), (16, '5ff1e1e4cfcf6c399c274ac3', 1, '2021-01-03 15:25:24.000000', '2021-01-03 15:25:24.000000', 'consumer', 'Email', 'WI'), (17, '5ff1e1b4cfcf6c399c274a54', 1, '2021-01-03 15:24:36.000000', '2021-01-03 15:24:36.000000', 'consumer', 'Email', 'WI'), (20, '5ff370c562fde912123a5e0e', 1, '2021-01-04 19:47:17.000000', '2021-01-04 19:50:50.000000', 'consumer', 'Email', 'WI')  ... displaying 10 of 212 total bound parameter sets ...  (462, '5964eb07e4b03efd0c0f267b', 1, '2017-07-11 15:13:11.000000', '2021-03-04 19:07:49.000000', 'fetch-staff', None, 'IL'), (475, '54943462e4b07e684157a532', 1, '2014-12-19 14:21:22.000000', '2021-03-05 16:52:23.000000', 'fetch-staff', None, None))\n",
      "2021-08-16 11:21:17,132 INFO sqlalchemy.engine.Engine COMMIT\n",
      "2021-08-16 11:21:17,139 INFO sqlalchemy.engine.Engine PRAGMA main.table_info(\"temp_brands\")\n",
      "2021-08-16 11:21:17,140 INFO sqlalchemy.engine.Engine [raw sql] ()\n",
      "2021-08-16 11:21:17,140 INFO sqlalchemy.engine.Engine PRAGMA temp.table_info(\"temp_brands\")\n",
      "2021-08-16 11:21:17,141 INFO sqlalchemy.engine.Engine [raw sql] ()\n",
      "2021-08-16 11:21:17,143 INFO sqlalchemy.engine.Engine BEGIN (implicit)\n",
      "2021-08-16 11:21:17,144 INFO sqlalchemy.engine.Engine \n",
      "CREATE TABLE temp_brands (\n",
      "\t\"index\" BIGINT, \n",
      "\tbarcode TEXT, \n",
      "\tcategory TEXT, \n",
      "\t\"categoryCode\" TEXT, \n",
      "\tname TEXT, \n",
      "\t\"topBrand\" BOOLEAN, \n",
      "\tbrand_id TEXT, \n",
      "\tcpg_id TEXT, \n",
      "\tcpg_reference TEXT, \n",
      "\t\"brandCode\" TEXT\n",
      ")\n",
      "\n",
      "\n",
      "2021-08-16 11:21:17,144 INFO sqlalchemy.engine.Engine [no key 0.00044s] ()\n",
      "2021-08-16 11:21:17,148 INFO sqlalchemy.engine.Engine CREATE INDEX ix_temp_brands_index ON temp_brands (\"index\")\n",
      "2021-08-16 11:21:17,148 INFO sqlalchemy.engine.Engine [no key 0.00048s] ()\n",
      "2021-08-16 11:21:17,152 INFO sqlalchemy.engine.Engine COMMIT\n",
      "2021-08-16 11:21:17,155 INFO sqlalchemy.engine.Engine BEGIN (implicit)\n",
      "2021-08-16 11:21:17,162 INFO sqlalchemy.engine.Engine INSERT INTO temp_brands (\"index\", barcode, category, \"categoryCode\", name, \"topBrand\", brand_id, cpg_id, cpg_reference, \"brandCode\") VALUES (?, ?, ?, ?, ?, ?, ?, ?, ?, ?)\n",
      "2021-08-16 11:21:17,162 INFO sqlalchemy.engine.Engine [generated in 0.00519s] ((0, '511111019862', 'Baking', 'BAKING', 'test brand @1612366101024', 0, '601ac115be37ce2ead437551', '601ac114be37ce2ead437550', 'Cogs', None), (1, '511111519928', 'Beverages', 'BEVERAGES', 'Starbucks', 0, '601c5460be37ce2ead43755f', '5332f5fbe4b03c9a25efd0ba', 'Cogs', 'STARBUCKS'), (2, '511111819905', 'Baking', 'BAKING', 'test brand @1612366146176', 0, '601ac142be37ce2ead43755d', '601ac142be37ce2ead437559', 'Cogs', 'TEST BRANDCODE @1612366146176'), (3, '511111519874', 'Baking', 'BAKING', 'test brand @1612366146051', 0, '601ac142be37ce2ead43755a', '601ac142be37ce2ead437559', 'Cogs', 'TEST BRANDCODE @1612366146051'), (4, '511111319917', 'Candy & Sweets', 'CANDY_AND_SWEETS', 'test brand @1612366146827', 0, '601ac142be37ce2ead43755e', '5332fa12e4b03c9a25efd1e7', 'Cogs', 'TEST BRANDCODE @1612366146827'), (5, '511111719885', 'Baking', 'BAKING', 'test brand @1612366146091', 0, '601ac142be37ce2ead43755b', '601ac142be37ce2ead437559', 'Cogs', 'TEST BRANDCODE @1612366146091'), (6, '511111219897', 'Baking', 'BAKING', 'test brand @1612366146133', 0, '601ac142be37ce2ead43755c', '601ac142be37ce2ead437559', 'Cogs', 'TEST BRANDCODE @1612366146133'), (7, '511111104810', 'Condiments & Sauces', None, 'J.L. Kraft', 1, '5cdad0f5166eb33eb7ce0faa', '559c2234e4b06aca36af13c6', 'Cogs', 'J.L. KRAFT')  ... displaying 10 of 1167 total bound parameter sets ...  (1165, '511111400608', 'Grocery', None, 'LIPTON TEA Leaves', 0, '5a021611e4b00efe02b02a57', '5332f5f6e4b03c9a25efd0b4', 'Cogs', 'LIPTON TEA Leaves'), (1166, '511111019930', 'Baking', 'BAKING', 'test brand @1613158231643', 0, '6026d757be37ce6369301468', '6026d757be37ce6369301467', 'Cogs', 'TEST BRANDCODE @1613158231644'))\n",
      "2021-08-16 11:21:17,167 INFO sqlalchemy.engine.Engine COMMIT\n"
     ]
    }
   ],
   "source": [
    "rec_formatted_df.to_sql('temp_receipts', con=engine, if_exists='replace')\n",
    "items_formatted_df.to_sql('temp_items', con=engine, if_exists='replace')\n",
    "user_formatted_df.to_sql('temp_users',con=engine, if_exists='replace')\n",
    "br_formatted_df.to_sql('temp_brands',con=engine, if_exists='replace')"
   ]
  },
  {
   "cell_type": "markdown",
   "id": "fceb64d7",
   "metadata": {},
   "source": [
    "#### Let's make runnig sql queries easy from Jupyter Notebook inline. We'll use \"ipython-sql\""
   ]
  },
  {
   "cell_type": "code",
   "execution_count": 32,
   "id": "5104d893",
   "metadata": {},
   "outputs": [],
   "source": [
    "%load_ext sql\n",
    "%sql sqlite:///fetch_rewards.db"
   ]
  },
  {
   "cell_type": "markdown",
   "id": "a2024ceb",
   "metadata": {},
   "source": [
    "#### Now create new tables from the sql statements based on our temporay tables. But here we define Prmary keys and Foreign Keys. We have to do this workaround , baceuse SQLite doesn't support ALTER constraints on existing tables."
   ]
  },
  {
   "cell_type": "code",
   "execution_count": 33,
   "id": "85e0af27",
   "metadata": {},
   "outputs": [
    {
     "name": "stdout",
     "output_type": "stream",
     "text": [
      " * sqlite:///fetch_rewards.db\n",
      "Done.\n",
      "Done.\n",
      "Done.\n",
      "Done.\n",
      "Done.\n",
      "Done.\n",
      "Done.\n",
      "Done.\n"
     ]
    },
    {
     "data": {
      "text/plain": [
       "[]"
      ]
     },
     "execution_count": 33,
     "metadata": {},
     "output_type": "execute_result"
    }
   ],
   "source": [
    "%%sql\n",
    "CREATE TABLE IF NOT EXISTS receipts (\n",
    "        \"index\" BIGINT,\n",
    "        \"bonusPointsEarned\" FLOAT,\n",
    "        \"bonusPointsEarnedReason\" TEXT,\n",
    "        \"createDate\" DATETIME,\n",
    "        \"dateScanned\" DATETIME,\n",
    "        \"finishedDate\" DATETIME,\n",
    "        \"modifyDate\" DATETIME,\n",
    "        \"pointsAwardedDate\" DATETIME,\n",
    "        \"pointsEarned\" FLOAT,\n",
    "        \"purchaseDate\" DATETIME,\n",
    "        \"purchasedItemCount\" BIGINT,\n",
    "        \"rewardsReceiptStatus\" TEXT,\n",
    "        \"totalSpent\" FLOAT,\n",
    "        \"userId\" TEXT,\n",
    "        receipt_id TEXT NOT NULL PRIMARY KEY,\n",
    "        FOREIGN KEY (userId) REFERENCES users (user_id) \n",
    ");\n",
    "CREATE INDEX IF NOT EXISTS ix_receipts_index ON receipts (\"index\");\n",
    "\n",
    "\n",
    "CREATE TABLE IF NOT EXISTS users (\n",
    "        \"index\" BIGINT,\n",
    "        user_id TEXT NOT NULL PRIMARY KEY,\n",
    "        active BOOLEAN,\n",
    "        \"createdDate\" DATETIME,\n",
    "        \"lastLogin\" DATETIME,\n",
    "        role TEXT,\n",
    "        \"signUpSource\" TEXT,\n",
    "        state TEXT\n",
    ");\n",
    "CREATE INDEX IF NOT EXISTS ix_users_index ON users (\"index\");\n",
    "\n",
    "\n",
    "CREATE TABLE IF NOT EXISTS items (\n",
    "        \"index\" BIGINT,\n",
    "        barcode TEXT,\n",
    "        description TEXT,\n",
    "        \"finalPrice\" FLOAT,\n",
    "        \"itemPrice\" FLOAT,\n",
    "        \"needsFetchReview\" BOOLEAN,\n",
    "        \"partnerItemId\" TEXT,\n",
    "        \"preventTargetGapPoints\" BOOLEAN,\n",
    "        \"quantityPurchased\" BIGINT,\n",
    "        \"userFlaggedBarcode\" TEXT,\n",
    "        \"userFlaggedNewItem\" BOOLEAN,\n",
    "        \"userFlaggedPrice\" FLOAT,\n",
    "        \"userFlaggedQuantity\" BIGINT,\n",
    "        receipt_id TEXT,\n",
    "        \"needsFetchReviewReason\" TEXT,\n",
    "        \"pointsNotAwardedReason\" TEXT,\n",
    "        \"pointsPayerId\" TEXT,\n",
    "        \"rewardsGroup\" TEXT,\n",
    "        \"rewardsProductPartnerId\" TEXT,\n",
    "        \"userFlaggedDescription\" TEXT,\n",
    "        \"originalMetaBriteBarcode\" TEXT,\n",
    "        \"originalMetaBriteDescription\" TEXT,\n",
    "        \"brandCode\" TEXT,\n",
    "        \"competitorRewardsGroup\" TEXT,\n",
    "        \"discountedItemPrice\" FLOAT,\n",
    "        \"originalReceiptItemText\" TEXT,\n",
    "        \"itemNumber\" TEXT,\n",
    "        \"originalMetaBriteQuantityPurchased\" BIGINT,\n",
    "        \"pointsEarned\" FLOAT,\n",
    "        \"targetPrice\" FLOAT,\n",
    "        \"competitiveProduct\" BOOLEAN,\n",
    "        \"originalFinalPrice\" FLOAT,\n",
    "        \"originalMetaBriteItemPrice\" TEXT,\n",
    "        deleted BOOLEAN,\n",
    "        \"priceAfterCoupon\" TEXT,\n",
    "        \"metabriteCampaignId\" TEXT,\n",
    "        FOREIGN KEY (receipt_id) REFERENCES receipts (receipt_id),\n",
    "        FOREIGN KEY (barcode) REFERENCES brands (barcode),\n",
    "        PRIMARY KEY (receipt_id,barcode)\n",
    ");\n",
    "CREATE INDEX IF NOT EXISTS ix_items_index ON items (\"index\");\n",
    "\n",
    "\n",
    "CREATE TABLE IF NOT EXISTS brands (\n",
    "        \"index\" BIGINT,\n",
    "        barcode TEXT NOT NULL PRIMARY KEY,\n",
    "        category TEXT,\n",
    "        \"categoryCode\" TEXT,\n",
    "        name TEXT,\n",
    "        \"topBrand\" BOOLEAN,\n",
    "        brand_id TEXT ,\n",
    "        cpg_id TEXT,\n",
    "        cpg_reference TEXT,\n",
    "        \"brandCode\" TEXT\n",
    ");\n",
    "CREATE INDEX IF NOT EXISTS ix_brands_index ON brands (\"index\");"
   ]
  },
  {
   "cell_type": "markdown",
   "id": "f036868c",
   "metadata": {},
   "source": [
    "#### So, now we have 4 temp tables (not related) with data. And 4 tables (related) with no data yet. Now we just have to copy data from from temp tables to new related tables."
   ]
  },
  {
   "cell_type": "code",
   "execution_count": 34,
   "id": "dbeb9703",
   "metadata": {},
   "outputs": [
    {
     "name": "stdout",
     "output_type": "stream",
     "text": [
      " * sqlite:///fetch_rewards.db\n",
      "Done.\n"
     ]
    },
    {
     "data": {
      "text/html": [
       "<table>\n",
       "    <tr>\n",
       "        <th>name</th>\n",
       "    </tr>\n",
       "    <tr>\n",
       "        <td>temp_receipts</td>\n",
       "    </tr>\n",
       "    <tr>\n",
       "        <td>temp_items</td>\n",
       "    </tr>\n",
       "    <tr>\n",
       "        <td>temp_users</td>\n",
       "    </tr>\n",
       "    <tr>\n",
       "        <td>temp_brands</td>\n",
       "    </tr>\n",
       "    <tr>\n",
       "        <td>receipts</td>\n",
       "    </tr>\n",
       "    <tr>\n",
       "        <td>users</td>\n",
       "    </tr>\n",
       "    <tr>\n",
       "        <td>items</td>\n",
       "    </tr>\n",
       "    <tr>\n",
       "        <td>brands</td>\n",
       "    </tr>\n",
       "</table>"
      ],
      "text/plain": [
       "[('temp_receipts',),\n",
       " ('temp_items',),\n",
       " ('temp_users',),\n",
       " ('temp_brands',),\n",
       " ('receipts',),\n",
       " ('users',),\n",
       " ('items',),\n",
       " ('brands',)]"
      ]
     },
     "execution_count": 34,
     "metadata": {},
     "output_type": "execute_result"
    }
   ],
   "source": [
    "%%sql\n",
    "SELECT name FROM sqlite_master \n",
    "WHERE \n",
    "    type ='table' AND \n",
    "    name NOT LIKE 'sqlite_%';"
   ]
  },
  {
   "cell_type": "markdown",
   "id": "0dbc4c46",
   "metadata": {},
   "source": [
    "#### Disabling relationships to load data "
   ]
  },
  {
   "cell_type": "code",
   "execution_count": 35,
   "id": "a6758743",
   "metadata": {},
   "outputs": [
    {
     "name": "stdout",
     "output_type": "stream",
     "text": [
      " * sqlite:///fetch_rewards.db\n",
      "Done.\n"
     ]
    },
    {
     "data": {
      "text/plain": [
       "[]"
      ]
     },
     "execution_count": 35,
     "metadata": {},
     "output_type": "execute_result"
    }
   ],
   "source": [
    "%%sql\n",
    "PRAGMA foreign_keys = 0;"
   ]
  },
  {
   "cell_type": "code",
   "execution_count": 36,
   "id": "05311009",
   "metadata": {},
   "outputs": [
    {
     "name": "stdout",
     "output_type": "stream",
     "text": [
      " * sqlite:///fetch_rewards.db\n",
      "679 rows affected.\n",
      "212 rows affected.\n",
      "5753 rows affected.\n",
      "1160 rows affected.\n"
     ]
    },
    {
     "data": {
      "text/plain": [
       "[]"
      ]
     },
     "execution_count": 36,
     "metadata": {},
     "output_type": "execute_result"
    }
   ],
   "source": [
    "%%sql\n",
    "INSERT OR IGNORE INTO receipts SELECT * FROM temp_receipts;\n",
    "INSERT OR IGNORE INTO users SELECT * FROM temp_users;\n",
    "INSERT OR IGNORE INTO items SELECT * FROM temp_items;\n",
    "INSERT OR IGNORE INTO brands SELECT * FROM temp_brands;"
   ]
  },
  {
   "cell_type": "markdown",
   "id": "9628e4a0",
   "metadata": {},
   "source": [
    "#### Enabling relationships (Foreign Keys) and cheking the errors."
   ]
  },
  {
   "cell_type": "code",
   "execution_count": 37,
   "id": "90b8dee7",
   "metadata": {},
   "outputs": [
    {
     "name": "stdout",
     "output_type": "stream",
     "text": [
      " * sqlite:///fetch_rewards.db\n",
      "Done.\n",
      "0 rows affected.\n"
     ]
    },
    {
     "data": {
      "text/plain": [
       "[]"
      ]
     },
     "execution_count": 37,
     "metadata": {},
     "output_type": "execute_result"
    }
   ],
   "source": [
    "%%sql\n",
    "PRAGMA foreign_keys = 1;\n",
    "-- PRAGMA foreign_key_check(items); # This statement commented to prevent cluttering of the screen."
   ]
  },
  {
   "cell_type": "markdown",
   "id": "58607c39",
   "metadata": {},
   "source": [
    "#### The most error-full table is \"items\". Let's see how many empty references FK have in other tables (basically in a table \"brands\"), to be sure our SQL queries are returning at least somewhat meaningfull information."
   ]
  },
  {
   "cell_type": "code",
   "execution_count": 38,
   "id": "9d02e6cd",
   "metadata": {},
   "outputs": [
    {
     "name": "stdout",
     "output_type": "stream",
     "text": [
      " * sqlite:///fetch_rewards.db\n",
      "Done.\n"
     ]
    },
    {
     "data": {
      "text/plain": [
       "(1842, 4)"
      ]
     },
     "execution_count": 38,
     "metadata": {},
     "output_type": "execute_result"
    }
   ],
   "source": [
    "result = %sql PRAGMA foreign_key_check(items);\n",
    "df = result.DataFrame()\n",
    "df.shape"
   ]
  },
  {
   "cell_type": "code",
   "execution_count": 39,
   "id": "a10819cd",
   "metadata": {},
   "outputs": [
    {
     "name": "stdout",
     "output_type": "stream",
     "text": [
      " * sqlite:///fetch_rewards.db\n",
      "Done.\n"
     ]
    },
    {
     "data": {
      "text/html": [
       "<table>\n",
       "    <tr>\n",
       "        <th>COUNT(rowid)</th>\n",
       "    </tr>\n",
       "    <tr>\n",
       "        <td>5753</td>\n",
       "    </tr>\n",
       "</table>"
      ],
      "text/plain": [
       "[(5753,)]"
      ]
     },
     "execution_count": 39,
     "metadata": {},
     "output_type": "execute_result"
    }
   ],
   "source": [
    "%%sql\n",
    "SELECT COUNT(rowid) from items;"
   ]
  },
  {
   "cell_type": "markdown",
   "id": "c163aa45",
   "metadata": {},
   "source": [
    "#### 1842 out of 5753 is not terribly bad considering dummy data. "
   ]
  },
  {
   "cell_type": "markdown",
   "id": "cb70b55f",
   "metadata": {},
   "source": [
    "## We will proceed with SQL queries from here. As I mentioned before I have been using SQLite dialect."
   ]
  },
  {
   "cell_type": "markdown",
   "id": "7f94ff42",
   "metadata": {},
   "source": [
    "#### Top 5 Brands by receipts scanned for the last 7 months. \n",
    "*I did 7 months, as 1 month haven't had any results. Still, we have rank 1 for several names because we only 2 ranks.* "
   ]
  },
  {
   "cell_type": "code",
   "execution_count": 40,
   "id": "2d2ed074",
   "metadata": {},
   "outputs": [
    {
     "name": "stdout",
     "output_type": "stream",
     "text": [
      " * sqlite:///fetch_rewards.db\n",
      "Done.\n"
     ]
    },
    {
     "data": {
      "text/html": [
       "<table>\n",
       "    <tr>\n",
       "        <th>brand_name</th>\n",
       "        <th>brand_rank</th>\n",
       "    </tr>\n",
       "    <tr>\n",
       "        <td>Baken-Ets</td>\n",
       "        <td>1</td>\n",
       "    </tr>\n",
       "    <tr>\n",
       "        <td>Caleb&#x27;s Kola</td>\n",
       "        <td>1</td>\n",
       "    </tr>\n",
       "    <tr>\n",
       "        <td>Diabetic Living Magazine</td>\n",
       "        <td>1</td>\n",
       "    </tr>\n",
       "    <tr>\n",
       "        <td>Dippin Dots® Cereal</td>\n",
       "        <td>1</td>\n",
       "    </tr>\n",
       "    <tr>\n",
       "        <td>Health Magazine</td>\n",
       "        <td>1</td>\n",
       "    </tr>\n",
       "</table>"
      ],
      "text/plain": [
       "[('Baken-Ets', 1),\n",
       " (\"Caleb's Kola\", 1),\n",
       " ('Diabetic Living Magazine', 1),\n",
       " ('Dippin Dots® Cereal', 1),\n",
       " ('Health Magazine', 1)]"
      ]
     },
     "execution_count": 40,
     "metadata": {},
     "output_type": "execute_result"
    }
   ],
   "source": [
    "%%sql\n",
    "SELECT  brand_name,  DENSE_RANK () OVER (ORDER BY times_bought DESC) AS brand_rank\n",
    "FROM (SELECT name brand_name, COUNT(*) times_bought FROM brands\n",
    "      WHERE(  \n",
    "                SELECT receipt_id FROM receipts\n",
    "                WHERE dateScanned BETWEEN date('now','-7 month') AND date('now')\n",
    "             )\n",
    "      GROUP BY name)\n",
    "LIMIT 5;"
   ]
  },
  {
   "cell_type": "markdown",
   "id": "070eb6a3",
   "metadata": {},
   "source": [
    "#### Average Spent between Rejected and Accepted. In this case Accepted is Finished. So, Accepted is greater."
   ]
  },
  {
   "cell_type": "code",
   "execution_count": 50,
   "id": "5b804a81",
   "metadata": {},
   "outputs": [
    {
     "name": "stdout",
     "output_type": "stream",
     "text": [
      " * sqlite:///fetch_rewards.db\n",
      "Done.\n"
     ]
    },
    {
     "data": {
      "text/html": [
       "<table>\n",
       "    <tr>\n",
       "        <th>rewardsReceiptStatus</th>\n",
       "        <th>avg_spent</th>\n",
       "    </tr>\n",
       "    <tr>\n",
       "        <td>FLAGGED</td>\n",
       "        <td>180.45</td>\n",
       "    </tr>\n",
       "    <tr>\n",
       "        <td>FINISHED</td>\n",
       "        <td>81.17</td>\n",
       "    </tr>\n",
       "    <tr>\n",
       "        <td>PENDING</td>\n",
       "        <td>28.03</td>\n",
       "    </tr>\n",
       "    <tr>\n",
       "        <td>REJECTED</td>\n",
       "        <td>24.36</td>\n",
       "    </tr>\n",
       "</table>"
      ],
      "text/plain": [
       "[('FLAGGED', 180.45),\n",
       " ('FINISHED', 81.17),\n",
       " ('PENDING', 28.03),\n",
       " ('REJECTED', 24.36)]"
      ]
     },
     "execution_count": 50,
     "metadata": {},
     "output_type": "execute_result"
    }
   ],
   "source": [
    "%%sql \n",
    "SELECT rewardsReceiptStatus, round(AVG(totalSpent), 2) avg_spent\n",
    "FROM receipts\n",
    "GROUP BY rewardsReceiptStatus\n",
    "ORDER BY avg_spent DESC;"
   ]
  },
  {
   "cell_type": "markdown",
   "id": "c88d1926",
   "metadata": {},
   "source": [
    "#### Total Items purchsed from receipts by rewardsReceiptStatus. e.g. with Status \"Rejected\" and \"Finished\"- which implies \"Accepted\"."
   ]
  },
  {
   "cell_type": "code",
   "execution_count": 42,
   "id": "10211abe",
   "metadata": {},
   "outputs": [
    {
     "name": "stdout",
     "output_type": "stream",
     "text": [
      " * sqlite:///fetch_rewards.db\n",
      "Done.\n"
     ]
    },
    {
     "data": {
      "text/html": [
       "<table>\n",
       "    <tr>\n",
       "        <th>rewardsReceiptStatus</th>\n",
       "        <th>sum_of_items</th>\n",
       "    </tr>\n",
       "    <tr>\n",
       "        <td>FINISHED</td>\n",
       "        <td>8184</td>\n",
       "    </tr>\n",
       "    <tr>\n",
       "        <td>FLAGGED</td>\n",
       "        <td>1014</td>\n",
       "    </tr>\n",
       "    <tr>\n",
       "        <td>REJECTED</td>\n",
       "        <td>173</td>\n",
       "    </tr>\n",
       "    <tr>\n",
       "        <td>PENDING</td>\n",
       "        <td>None</td>\n",
       "    </tr>\n",
       "</table>"
      ],
      "text/plain": [
       "[('FINISHED', 8184), ('FLAGGED', 1014), ('REJECTED', 173), ('PENDING', None)]"
      ]
     },
     "execution_count": 42,
     "metadata": {},
     "output_type": "execute_result"
    }
   ],
   "source": [
    "%%sql \n",
    "SELECT rewardsReceiptStatus, SUM(purchasedItemCount) sum_of_items\n",
    "FROM receipts\n",
    "GROUP BY rewardsReceiptStatus\n",
    "ORDER BY sum_of_items DESC;"
   ]
  },
  {
   "cell_type": "markdown",
   "id": "89a48a4d",
   "metadata": {},
   "source": [
    "#### Brand which has the most spend among users who were created withing last 6 months.\n",
    "*I have used 12 months to have some results.*"
   ]
  },
  {
   "cell_type": "code",
   "execution_count": 47,
   "id": "7c06e072",
   "metadata": {},
   "outputs": [
    {
     "name": "stdout",
     "output_type": "stream",
     "text": [
      " * sqlite:///fetch_rewards.db\n",
      "Done.\n"
     ]
    },
    {
     "data": {
      "text/html": [
       "<table>\n",
       "    <tr>\n",
       "        <th>brand_name</th>\n",
       "        <th>total_spend</th>\n",
       "    </tr>\n",
       "    <tr>\n",
       "        <td>Tostitos</td>\n",
       "        <td>7527.79</td>\n",
       "    </tr>\n",
       "    <tr>\n",
       "        <td>Swanson</td>\n",
       "        <td>7187.14</td>\n",
       "    </tr>\n",
       "    <tr>\n",
       "        <td>Cracker Barrel Cheese</td>\n",
       "        <td>4885.89</td>\n",
       "    </tr>\n",
       "    <tr>\n",
       "        <td>Jell-O</td>\n",
       "        <td>4754.37</td>\n",
       "    </tr>\n",
       "    <tr>\n",
       "        <td>V8</td>\n",
       "        <td>4721.95</td>\n",
       "    </tr>\n",
       "    <tr>\n",
       "        <td>Prego</td>\n",
       "        <td>4721.95</td>\n",
       "    </tr>\n",
       "    <tr>\n",
       "        <td>Pepperidge Farm</td>\n",
       "        <td>4721.95</td>\n",
       "    </tr>\n",
       "    <tr>\n",
       "        <td>Cheetos</td>\n",
       "        <td>4721.95</td>\n",
       "    </tr>\n",
       "    <tr>\n",
       "        <td>Kettle Brand</td>\n",
       "        <td>2400.91</td>\n",
       "    </tr>\n",
       "    <tr>\n",
       "        <td>Grey Poupon</td>\n",
       "        <td>743.79</td>\n",
       "    </tr>\n",
       "    <tr>\n",
       "        <td>Quaker</td>\n",
       "        <td>32.42</td>\n",
       "    </tr>\n",
       "</table>"
      ],
      "text/plain": [
       "[('Tostitos', 7527.79),\n",
       " ('Swanson', 7187.14),\n",
       " ('Cracker Barrel Cheese', 4885.89),\n",
       " ('Jell-O', 4754.37),\n",
       " ('V8', 4721.95),\n",
       " ('Prego', 4721.95),\n",
       " ('Pepperidge Farm', 4721.95),\n",
       " ('Cheetos', 4721.95),\n",
       " ('Kettle Brand', 2400.91),\n",
       " ('Grey Poupon', 743.79),\n",
       " ('Quaker', 32.42)]"
      ]
     },
     "execution_count": 47,
     "metadata": {},
     "output_type": "execute_result"
    }
   ],
   "source": [
    "%%sql \n",
    "SELECT  brands.name brand_name, round(SUM(receipts.totalSpent), 2) total_spend\n",
    "FROM users\n",
    "INNER JOIN receipts ON users.user_id = receipts.userId\n",
    "INNER JOIN items ON receipts.receipt_id = items.receipt_id\n",
    "INNER JOIN brands ON items.barcode = brands.barcode\n",
    "WHERE users.createdDate BETWEEN date('now','-12 month') AND date('now')\n",
    "GROUP BY brand_name\n",
    "ORDER BY total_spend DESC"
   ]
  },
  {
   "cell_type": "markdown",
   "id": "824d7c36",
   "metadata": {},
   "source": [
    "#### Brand which has the most transactions among users who were created withing laast 6 month.\n",
    "*I have used 12 months to get some results*"
   ]
  },
  {
   "cell_type": "code",
   "execution_count": 44,
   "id": "966b300d",
   "metadata": {},
   "outputs": [
    {
     "name": "stdout",
     "output_type": "stream",
     "text": [
      " * sqlite:///fetch_rewards.db\n",
      "Done.\n"
     ]
    },
    {
     "data": {
      "text/html": [
       "<table>\n",
       "    <tr>\n",
       "        <th>brand_name</th>\n",
       "        <th>total_transactions</th>\n",
       "    </tr>\n",
       "    <tr>\n",
       "        <td>Tostitos</td>\n",
       "        <td>11</td>\n",
       "    </tr>\n",
       "    <tr>\n",
       "        <td>Swanson</td>\n",
       "        <td>11</td>\n",
       "    </tr>\n",
       "    <tr>\n",
       "        <td>Kettle Brand</td>\n",
       "        <td>3</td>\n",
       "    </tr>\n",
       "    <tr>\n",
       "        <td>Jell-O</td>\n",
       "        <td>2</td>\n",
       "    </tr>\n",
       "    <tr>\n",
       "        <td>Cracker Barrel Cheese</td>\n",
       "        <td>2</td>\n",
       "    </tr>\n",
       "    <tr>\n",
       "        <td>V8</td>\n",
       "        <td>1</td>\n",
       "    </tr>\n",
       "    <tr>\n",
       "        <td>Quaker</td>\n",
       "        <td>1</td>\n",
       "    </tr>\n",
       "    <tr>\n",
       "        <td>Prego</td>\n",
       "        <td>1</td>\n",
       "    </tr>\n",
       "    <tr>\n",
       "        <td>Pepperidge Farm</td>\n",
       "        <td>1</td>\n",
       "    </tr>\n",
       "    <tr>\n",
       "        <td>Grey Poupon</td>\n",
       "        <td>1</td>\n",
       "    </tr>\n",
       "    <tr>\n",
       "        <td>Cheetos</td>\n",
       "        <td>1</td>\n",
       "    </tr>\n",
       "</table>"
      ],
      "text/plain": [
       "[('Tostitos', 11),\n",
       " ('Swanson', 11),\n",
       " ('Kettle Brand', 3),\n",
       " ('Jell-O', 2),\n",
       " ('Cracker Barrel Cheese', 2),\n",
       " ('V8', 1),\n",
       " ('Quaker', 1),\n",
       " ('Prego', 1),\n",
       " ('Pepperidge Farm', 1),\n",
       " ('Grey Poupon', 1),\n",
       " ('Cheetos', 1)]"
      ]
     },
     "execution_count": 44,
     "metadata": {},
     "output_type": "execute_result"
    }
   ],
   "source": [
    "%%sql\n",
    "SELECT  brands.name brand_name, COUNT(receipts.createDate) total_transactions\n",
    "FROM users\n",
    "INNER JOIN receipts ON users.user_id = receipts.userId\n",
    "INNER JOIN items ON receipts.receipt_id = items.receipt_id\n",
    "INNER JOIN brands ON items.barcode = brands.barcode\n",
    "WHERE users.createdDate BETWEEN date('now','-12 month') AND date('now')\n",
    "GROUP BY brand_name\n",
    "ORDER BY total_transactions DESC"
   ]
  }
 ],
 "metadata": {
  "kernelspec": {
   "display_name": "Python 3 (ipykernel)",
   "language": "python",
   "name": "python3"
  },
  "language_info": {
   "codemirror_mode": {
    "name": "ipython",
    "version": 3
   },
   "file_extension": ".py",
   "mimetype": "text/x-python",
   "name": "python",
   "nbconvert_exporter": "python",
   "pygments_lexer": "ipython3",
   "version": "3.9.2"
  }
 },
 "nbformat": 4,
 "nbformat_minor": 5
}
